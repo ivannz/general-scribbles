{
 "cells": [
  {
   "cell_type": "markdown",
   "metadata": {},
   "source": [
    "# A study of SDE and stoch processes"
   ]
  },
  {
   "cell_type": "markdown",
   "metadata": {},
   "source": [
    "Questions that need answering:\n",
    "* what is the space setup here? bounded continuous function of $[0, T]$? or is it the dual of that (some good behaving measures)? What is the dual space?\n",
    "* what is the norm/metric/topology here for strong convergence?\n",
    "* is the weak convergence here the same thing as weak-$\\star$?"
   ]
  },
  {
   "cell_type": "markdown",
   "metadata": {},
   "source": [
    "Then let's rewrite the below by summarizing [Higham D.J (2002)](http://homepages.warwick.ac.uk/~masdr/JOURNALPUBS/stuart51.pdf),\n",
    "[this doctoral thesis](https://core.ac.uk/download/pdf/70597247.pdf)\n",
    "and [this paper on Euler-Maryama](https://arxiv.org/abs/1610.07047.pdf)"
   ]
  },
  {
   "cell_type": "code",
   "execution_count": null,
   "metadata": {},
   "outputs": [],
   "source": [
    "import torch\n",
    "\n",
    "import numpy as np"
   ]
  },
  {
   "cell_type": "markdown",
   "metadata": {},
   "source": [
    "<br>"
   ]
  },
  {
   "cell_type": "markdown",
   "metadata": {},
   "source": [
    "Consider and SDE\n",
    "$$\n",
    "dX_t\n",
    "    = \\mu_t dt + \\Sigma_t^{\\tfrac12} dW_t\n",
    "    \\,, $$\n",
    "where $\\mu_t = \\mu(X_t)$, $\\Sigma_t = \\Sigma(X_t)$ and $W_t$\n",
    "is a multivaraite Brownian motion."
   ]
  },
  {
   "cell_type": "markdown",
   "metadata": {},
   "source": [
    "Euler-Maruyama numerical integration method of this SDE goes like this\n",
    "(based on this lecture [on numerical methods in Computational Finance](https://www.mimuw.edu.pl/~apalczew/CFP_lecture5.pdf)).\n",
    "\n",
    "The SDE is in fact the following integral equation\n",
    "$$\n",
    "X_t - X_0\n",
    "    = \\int_0^t \\mu_\\tau d\\tau + \\int_0^t \\Sigma_\\tau^{\\tfrac12} dW_\\tau\n",
    "  \\,, $$\n",
    "\n",
    "so for $t$ and $t+\\delta$ the Îto integral of the BM can be approximated\n",
    "by the same finite difference, with which it is constructed (in $\\ell_2$)\n",
    "\n",
    "$$\n",
    "\\begin{align}\n",
    "\\int_t^{t+\\delta} \\Sigma_\\tau^{\\tfrac12} dW_\\tau\n",
    "    &\\approx \\Sigma_t^{\\tfrac12} \\bigl(W_{t+\\delta} - W_t\\bigr)\n",
    "    \\,, \\\\\n",
    "\\int_t^{t+\\delta} \\mu_\\tau d\\tau\n",
    "    & \\approx \\mu_t \\delta\n",
    "    \\,,\n",
    "\\end{align}\n",
    "$$\n",
    "where approximations are in $\\ell_2$ ($\\|\\cdot\\|_2^2 = \\mathbb{E}(\\cdot)^2$)\n",
    "sense as $\\delta \\to 0$. Therefore the $\\delta$-difference obeys\n",
    "\n",
    "$$\n",
    "X_{t+\\delta} - X_t\n",
    "    \\sim \\mathcal{N}_d(\\mu_t \\delta, \\Sigma_t \\delta)\n",
    "    \\,. $$"
   ]
  },
  {
   "cell_type": "markdown",
   "metadata": {},
   "source": [
    "Consider a partition $0 = t_0 < t_1 < \\cdots < t_n = T$ with $\n",
    "\\max_{k=1}^n (t_{k+1} - t_k) \\leq \\delta\n",
    "$\n",
    "and denote by\n",
    "$ X^\\delta_t $ the piecewise linear interpolation of $(X_{t_n})_{n=0}^n$:\n",
    "$$\n",
    "X^\\delta_t\n",
    "%     = \\sum_{k=1}^n\n",
    "%         1_{[t_{k-1}, t_k)}(t) \\Bigl(\n",
    "%             X_{t_k} + \\frac{t - t_k}{t_{k+1} - t_k} (X_{t_{k+1}} - X_{t_k})\n",
    "%         \\Bigr)\n",
    "    = \\sum_{k \\colon t \\in [t_{k-1}, t_k)}\n",
    "        X_{t_k} + \\frac{t - t_k}{t_{k+1} - t_k} (X_{t_{k+1}} - X_{t_k})\n",
    "    \\,. $$"
   ]
  },
  {
   "cell_type": "markdown",
   "metadata": {},
   "source": [
    "A numerical scheme for a given SDE has strong convergence of order $\\gamma$\n",
    "if there exists $C_T$ (depending on the SDE and time $T$) such that\n",
    "\n",
    "$$\n",
    "\\mathbb{E} \\biggl(\n",
    "    \\sup_{t \\in [0, T]} \\bigl\\| X_t - X^\\delta_t \\bigr\\|_2^2\n",
    "\\biggr)^{\\tfrac12}\n",
    "    \\leq C_T \\delta^\\gamma\n",
    "    \\,. $$\n",
    "\n",
    "Another notion of convergence for SDEs (and in general in probability) is weak\n",
    "(weak-$\\star$ in functional analysis). A scheme for an SDE has weak convergence\n",
    "of order $\\gamma$ if for any bounded continuous function $\n",
    "    g \\in C^\\infty(\n",
    "        \\mathbb{R}^d \\to \\mathbb{R}\n",
    "    )\n",
    "$ there is a $C_{T,g}$ such that\n",
    "\n",
    "$$\n",
    "\\bigl\\lvert\n",
    "    \\mathbb{E} g(X_T) - g(X^\\delta_T)\n",
    "\\bigr\\rvert\n",
    "    \\leq C_{T,g} \\delta^\\gamma\n",
    "    \\,. $$\n",
    "Note that weak convergence concerns the distribution at $T$ only."
   ]
  },
  {
   "cell_type": "markdown",
   "metadata": {},
   "source": [
    "<br>"
   ]
  },
  {
   "cell_type": "code",
   "execution_count": null,
   "metadata": {},
   "outputs": [],
   "source": [
    "import torch\n",
    "\n",
    "import numpy as np\n",
    "\n",
    "%matplotlib inline\n",
    "import matplotlib.pyplot as plt"
   ]
  },
  {
   "cell_type": "code",
   "execution_count": null,
   "metadata": {},
   "outputs": [],
   "source": [
    "import math\n",
    "\n",
    "def euler_maruyama(mu, sigma, x_0, *, delta=1e-4):\n",
    "    X_t = x_0.clone().detach()\n",
    "    *head, _ = X_t.shape\n",
    "\n",
    "    mu_t, sigma_t = mu(X_t), sigma(X_t)\n",
    "    while True:\n",
    "        X_t.add_(mu_t * delta)  # make a mul-copy of mu\n",
    "\n",
    "        # torch.matmul(dW_t, torch.cholesky(sigma_t, upper=True))\n",
    "        dW_t = torch.randn(*head, sigma_t.shape[-1], 1)\n",
    "        dW_t.mul_(math.sqrt(delta))\n",
    "\n",
    "        X_t.add_(torch.matmul(sigma_t, dW_t).squeeze(-1))\n",
    "\n",
    "        yield X_t.clone()\n",
    "\n",
    "        mu_t, sigma_t = mu(X_t), sigma(X_t)"
   ]
  },
  {
   "cell_type": "code",
   "execution_count": null,
   "metadata": {},
   "outputs": [],
   "source": [
    "a = torch.randn(2, 20)\n",
    "sigma_t = torch.cholesky(torch.mm(a, a.t()) * 1e-2, upper=False)\n",
    "mu_t = torch.zeros(5, 2) * 2"
   ]
  },
  {
   "cell_type": "code",
   "execution_count": null,
   "metadata": {},
   "outputs": [],
   "source": [
    "paths = [torch.randn(1, 2).repeat(5, 1) * 1e-1]\n",
    "# paths = [torch.randn(5, 2) * 1e-1]\n",
    "int_ = euler_maruyama(lambda x: mu_t, lambda x: sigma_t,\n",
    "                      paths[-1], delta=1e-3)\n",
    "\n",
    "paths.extend(X_t for _, X_t in zip(range(200), int_))\n",
    "\n",
    "paths = torch.stack(paths, dim=1)"
   ]
  },
  {
   "cell_type": "code",
   "execution_count": null,
   "metadata": {},
   "outputs": [],
   "source": [
    "fig = plt.figure(figsize=(14, 14))\n",
    "ax = fig.add_subplot(111)\n",
    "\n",
    "colors = plt.cm.Accent(np.linspace(0, 1, num=len(paths)))\n",
    "for path, col in zip(paths, colors):\n",
    "    path = path.numpy()\n",
    "    xy, uv = path[:-1], path[1:] - path[:-1]\n",
    "    ax.quiver(xy[:, 0], xy[:, 1], uv[:, 0], uv[:, 1], color=col,\n",
    "              angles=\"xy\", units=\"xy\", scale=1., scale_units=\"xy\")"
   ]
  },
  {
   "cell_type": "code",
   "execution_count": null,
   "metadata": {},
   "outputs": [],
   "source": [
    "assert torch.allclose(torch.cholesky(a, upper=True).t(), torch.cholesky(a))"
   ]
  },
  {
   "cell_type": "code",
   "execution_count": null,
   "metadata": {},
   "outputs": [],
   "source": []
  }
 ],
 "metadata": {
  "kernelspec": {
   "display_name": "Python 3",
   "language": "python",
   "name": "python3"
  },
  "language_info": {
   "codemirror_mode": {
    "name": "ipython",
    "version": 3
   },
   "file_extension": ".py",
   "mimetype": "text/x-python",
   "name": "python",
   "nbconvert_exporter": "python",
   "pygments_lexer": "ipython3",
   "version": "3.7.4"
  }
 },
 "nbformat": 4,
 "nbformat_minor": 2
}
