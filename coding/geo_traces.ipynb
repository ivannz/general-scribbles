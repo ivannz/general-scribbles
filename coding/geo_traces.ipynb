{
 "cells": [
  {
   "cell_type": "markdown",
   "metadata": {},
   "source": [
    "# Poor man's gps tracking "
   ]
  },
  {
   "cell_type": "code",
   "execution_count": null,
   "metadata": {},
   "outputs": [],
   "source": [
    "import os\n",
    "\n",
    "import tqdm"
   ]
  },
  {
   "cell_type": "code",
   "execution_count": null,
   "metadata": {},
   "outputs": [],
   "source": [
    "import numpy as np\n",
    "import pandas as pd"
   ]
  },
  {
   "cell_type": "code",
   "execution_count": null,
   "metadata": {},
   "outputs": [],
   "source": [
    "%matplotlib inline\n",
    "import matplotlib.pyplot as plt"
   ]
  },
  {
   "cell_type": "markdown",
   "metadata": {},
   "source": [
    "<br>"
   ]
  },
  {
   "cell_type": "markdown",
   "metadata": {},
   "source": [
    "## Load data"
   ]
  },
  {
   "cell_type": "markdown",
   "metadata": {},
   "source": [
    "### Pregenerated "
   ]
  },
  {
   "cell_type": "code",
   "execution_count": null,
   "metadata": {},
   "outputs": [],
   "source": [
    "base = \"\"\"./geo_traces/\"\"\""
   ]
  },
  {
   "cell_type": "raw",
   "metadata": {},
   "source": [
    "track_gps = pd.read_csv(os.path.join(base, \"tricky_loop_gps_M14.csv\"))\n",
    "track_true = pd.read_csv(os.path.join(base, \"tricky_loop_true_M14.csv\"))\n",
    "\n",
    "M = 14"
   ]
  },
  {
   "cell_type": "raw",
   "metadata": {},
   "source": [
    "track_gps = pd.read_csv(os.path.join(base, \"tricky_gps_M10.csv\"))\n",
    "track_true = pd.read_csv(os.path.join(base, \"tricky_true_M10.csv\"))\n",
    "\n",
    "M = 10"
   ]
  },
  {
   "cell_type": "code",
   "execution_count": null,
   "metadata": {},
   "outputs": [],
   "source": [
    "track_gps = pd.read_csv(os.path.join(base, \"loop_gps_M9.csv\"))\n",
    "track_true = pd.read_csv(os.path.join(base, \"loop_true_M9.csv\"))\n",
    "\n",
    "M = 9"
   ]
  },
  {
   "cell_type": "markdown",
   "metadata": {},
   "source": [
    "<br>"
   ]
  },
  {
   "cell_type": "markdown",
   "metadata": {},
   "source": [
    "### Custom track generator"
   ]
  },
  {
   "cell_type": "raw",
   "metadata": {},
   "source": [
    "from scipy.stats import dirichlet\n",
    "\n",
    "n_samples, n_dim, n_segments, sigma = 1000, 2, 10, 5\n",
    "fs, speed = 1000, 60 * 1000 / 3600\n",
    "\n",
    "lengths = dirichlet.rvs(np.r_[[1.] * n_segments]) * n_samples\n",
    "segments = np.r_[0, np.cumsum(lengths)[:-1].astype(int), n_samples]\n",
    "\n",
    "noise = np.random.randn(n_samples, n_dim) * sigma\n"
   ]
  },
  {
   "cell_type": "markdown",
   "metadata": {},
   "source": [
    "<br>"
   ]
  },
  {
   "cell_type": "markdown",
   "metadata": {},
   "source": [
    "### Visualize"
   ]
  },
  {
   "cell_type": "markdown",
   "metadata": {},
   "source": [
    "Keep the tracking data in `P`."
   ]
  },
  {
   "cell_type": "code",
   "execution_count": null,
   "metadata": {},
   "outputs": [],
   "source": [
    "P = np.ascontiguousarray(track_gps.to_numpy())"
   ]
  },
  {
   "cell_type": "code",
   "execution_count": null,
   "metadata": {},
   "outputs": [],
   "source": [
    "from sklearn.cluster import KMeans\n",
    "\n",
    "cluster = KMeans(n_clusters=M)\n",
    "\n",
    "aff = cluster.fit_predict(P)\n",
    "\n",
    "plt.plot(track_true.X, track_true.Y, c=\"k\", zorder=10)\n",
    "colors = plt.cm.rainbow(np.linspace(0, 1, 14))\n",
    "plt.scatter(track_gps.X, track_gps.Y, c=colors[aff])"
   ]
  },
  {
   "cell_type": "markdown",
   "metadata": {},
   "source": [
    "<br>"
   ]
  },
  {
   "cell_type": "markdown",
   "metadata": {},
   "source": [
    "## DP approach "
   ]
  },
  {
   "cell_type": "markdown",
   "metadata": {},
   "source": [
    "### The objective"
   ]
  },
  {
   "cell_type": "markdown",
   "metadata": {},
   "source": [
    "Consider some tracking data $(x_k)_{k=0}^{K-1} \\in \\mathbb{R}^d$.\n",
    "It is known that true position is on a continuous piecewise\n",
    "linear track and is sampled at a fixed rate with Gaussian\n",
    "noise $\\mathcal{N}_d(0, \\sigma^2 I)$ with unknown $\\sigma^2$.\n",
    "\n",
    "Additional info:\n",
    "* the object moves at constant speed"
   ]
  },
  {
   "cell_type": "markdown",
   "metadata": {},
   "source": [
    "The true track consists of $M$ line segments:\n",
    "\n",
    "$$\n",
    "\\mu\n",
    "    \\colon [0, 1] \\to \\mathbb{R}^d\n",
    "    \\colon \\tau \\mapsto \\sum_{m=1}^M 1_{[t_m, t_{m+1})}(\\tau)\n",
    "    \\,\\mu_m\\Bigl(\\frac{\\tau - t_m}{t_{m+1} - t_m}\\Bigr)\n",
    "    \\,, $$\n",
    "\n",
    "where $0 = t_1 < \\cdots < t_{M+1} = 1$ and the $m$-th segment is $\n",
    "    \\mu_m\n",
    "    \\colon [0, 1] \\to \\mathbb{R}^d\n",
    "    \\colon \\tau \\mapsto (1 - \\tau) p_m + \\tau p_{m+1}\n",
    "$ for $(p_m)_{m=1}^{M+1} \\in \\mathbb{R}^d$."
   ]
  },
  {
   "cell_type": "markdown",
   "metadata": {},
   "source": [
    "Observations $\n",
    "    x_k \\sim \\mathcal{N}_d\\bigl(\n",
    "        \\mu(\\tau_k), \\sigma^2 I_d\n",
    "    \\bigr)\n",
    "$ indep., $k=0,.., K-1$."
   ]
  },
  {
   "cell_type": "markdown",
   "metadata": {},
   "source": [
    "The goal is to minimize the following objective \n",
    "$$\n",
    "\\frac{dK}2 \\log \\sigma^2\n",
    "    + \\frac1{2 \\sigma^2} \\sum_{k=0}^{K-1}\n",
    "        \\bigl\\| x_k - \\mu(\\tfrac{k}{K}) \\bigr\\|^2\n",
    "    = \n",
    "    \\frac{dK}2 \\log \\sigma^2\n",
    "    + \\frac1{2 \\sigma^2} \\sum_{m=1}^M \\sum_{k\\in [s_m, s_{m+1})}\n",
    "        \\bigl\\| x_k - \\mu_m\\bigl(\\tfrac{k - s_m}{s_{m+1} - s_m}\\bigr) \\bigr\\|^2\n",
    "    \\,, $$\n",
    "with respect to $\\sigma^2$, $p = (p_m)_{m=1}^{M+1}$, $t = (t_m)_{m=1}^{M+1}\\in [0, 1]$\n",
    "($t_1=0$, $t_{M+1}=1$) and $s = t K$."
   ]
  },
  {
   "cell_type": "markdown",
   "metadata": {},
   "source": [
    "Obviously, given $p_m$ and $s_m$ the optimal $\\sigma^2$ is just\n",
    "$$\n",
    "\\sigma^2\n",
    "    = \\frac1{dK} \\sum_{m=1}^M \\sum_{k\\in [s_m, s_{m+1})}\n",
    "        \\bigl\\|\n",
    "            x_k - \\mu_m\\bigl(\\tfrac{k - s_m}{s_{m+1} - s_m}\\bigr)\n",
    "        \\bigr\\|^2\n",
    "    \\,.$$"
   ]
  },
  {
   "cell_type": "markdown",
   "metadata": {},
   "source": [
    "Thus the objective becomes\n",
    "\n",
    "$$\n",
    "\\frac{dK}2 \\log \\frac1{dK} \\sum_{m=1}^M \\sum_{k\\in [s_m, s_{m+1})}\n",
    "        \\bigl\\|\n",
    "            x_k - \\mu_m\\bigl(\\tfrac{k - s_m}{s_{m+1} - s_m}\\bigr)\n",
    "        \\bigr\\|^2\n",
    "    + \\frac{dK}2\n",
    "    \\,, $$\n",
    "\n",
    "which is equivalent to\n",
    "\n",
    "$$\n",
    "\\frac1{dK} \\sum_{m=1}^M \\sum_{k\\in [s_m, s_{m+1})}\n",
    "    \\bigl\\|\n",
    "        x_k - \\mu_m\\bigl(\\tfrac{k - s_m}{s_{m+1} - s_m}\\bigr)\n",
    "    \\bigr\\|^2\n",
    "    \\,, $$\n",
    "\n",
    "due to monotonicity of $\\log$. This should be minimized with respect to splits\n",
    "$(s_m)_{m=1}^{M+1} \\in [0, K]$ and knots $(p_m)_{m=1}^{M+1}$."
   ]
  },
  {
   "cell_type": "markdown",
   "metadata": {},
   "source": [
    "This looks suspiciously like a clustering objective."
   ]
  },
  {
   "cell_type": "markdown",
   "metadata": {},
   "source": [
    "We assume $p_0 = 0$, i.e. the piecewise track starts at zero and $\\mu(0) = p_0 = 0$."
   ]
  },
  {
   "cell_type": "markdown",
   "metadata": {},
   "source": [
    "<br>"
   ]
  },
  {
   "cell_type": "markdown",
   "metadata": {},
   "source": [
    "### DP: Times and points (unfinished)"
   ]
  },
  {
   "cell_type": "markdown",
   "metadata": {},
   "source": [
    "Let's try dyn-prog appriach here. The data is $(\\tau_k, x_k) \\in [0, 1] \\times \\mathbb{R}^d$\n",
    "and the (inner) objective is\n",
    "\n",
    "$$\n",
    "L(p, t; M, K)\n",
    "    = \\sum_{m=1}^M \\sum_{k=1}^K [k\\in I_m]\n",
    "    \\Bigl\\|\n",
    "        x_k - p_{m-1} - (p_m - p_{m-1}) \\frac{\\tau_k - t_{m-1}}{t_m - t_{m-1}}\n",
    "    \\Bigr\\|^2\n",
    "    \\,, $$\n",
    "\n",
    "for $\n",
    "I_m = \\{k\\colon \\tau_k \\in [t_{m-1}, t_m)\\}\n",
    "$, $\n",
    "    p = (p_m)_{m=0}^M \\in \\mathbb{R}^d\n",
    "$, and $\n",
    "    t = (t_m)_{m=0}^M \\uparrow\n",
    "$ with $\n",
    "    0 = t_0 < \\cdots < t_M = 1\n",
    "$ and $p_0 = 0$."
   ]
  },
  {
   "cell_type": "code",
   "execution_count": null,
   "metadata": {},
   "outputs": [],
   "source": [
    "pass"
   ]
  },
  {
   "cell_type": "markdown",
   "metadata": {},
   "source": [
    "<br>"
   ]
  },
  {
   "cell_type": "markdown",
   "metadata": {},
   "source": [
    "### DP: Indices and points (unfinished)"
   ]
  },
  {
   "cell_type": "markdown",
   "metadata": {},
   "source": [
    "Instead of figuring out the segment times $t_m\\in [0, 1]$, $t_m\\uparrow$,\n",
    "let's just fit a bunch of sequentially connected segments. And slightly\n",
    "disregard continuity requirement.\n",
    "\n",
    "Also we have $k_0 = 0$ and $k_M = K$.\n",
    "\n",
    "Let $V(M, K)$ denote the best fit of $M$ segments on the data up to $K$:\n",
    "\n",
    "$$\n",
    "\\begin{align}\n",
    "V_M(x, l)\n",
    "    &= \\min_{p, k}\n",
    "        \\sum_{i=0}^{k-1}\n",
    "            \\Bigl\\| x_i - p \\frac{i}{k} \\Bigr\\|^2\n",
    "        + V_{M-1}(x_{k:} - p, l-k)\n",
    "    \\,, \\\\\n",
    "V_1(x, k)\n",
    "    &= \\min_{p}\n",
    "        \\sum_{i=0}^{k-1}\n",
    "            \\Bigl\\| x_i - p \\frac{i}{k} \\Bigr\\|^2\n",
    "    \\,,\n",
    "\\end{align} $$\n",
    "where $x_{j:} = (x_k)_{k\\geq j}$."
   ]
  },
  {
   "cell_type": "markdown",
   "metadata": {},
   "source": [
    "If $\\tau = (t)_{t=0}^{T-1}$, then $\n",
    "    p = (\\tau^\\top \\tau)^{-1} \\tau^\\top X\n",
    "$ for $X = (x_t)_{t=0}^{T-1}$. The fit is $\n",
    "    \\mathop{tr} \\bigl(I-\\tau (\\tau^\\top \\tau)^{-1} \\tau^\\top\\bigr) X X^\\top\n",
    "$."
   ]
  },
  {
   "cell_type": "markdown",
   "metadata": {},
   "source": [
    "$$\n",
    "p = \\frac{6k}{(k-1) (2k-1)}\\sum_{i=0}^{k-1} \\frac{i}{k} x_i\n",
    "\\,. $$"
   ]
  },
  {
   "cell_type": "markdown",
   "metadata": {},
   "source": [
    "<br>"
   ]
  },
  {
   "cell_type": "markdown",
   "metadata": {},
   "source": [
    "### DP: Discontinuous local regression"
   ]
  },
  {
   "cell_type": "markdown",
   "metadata": {},
   "source": [
    "Essentially we need to cluster the points using the fact that the mean in each\n",
    "cluster is in fact a linear segment."
   ]
  },
  {
   "cell_type": "markdown",
   "metadata": {},
   "source": [
    "$$\n",
    "V(M, K)\n",
    "    = \\min_{0 < j < K} V(M-1, j)\n",
    "        + \\min_{p_0, p_1} \\sum_{i=j}^{K-1} \\Bigl\\|\n",
    "            x_i - p_0 - (p_1 - p_0) \\frac{i-j}{K-j}\n",
    "        \\Bigr\\|^2\n",
    "    \\,. $$"
   ]
  },
  {
   "cell_type": "markdown",
   "metadata": {},
   "source": [
    "Fit a single segment"
   ]
  },
  {
   "cell_type": "markdown",
   "metadata": {},
   "source": [
    "$$\n",
    "\\| Y - 1\\beta_0 - X \\beta \\|^2\n",
    "    \\,. $$\n",
    "$$\n",
    "1^\\top Y - 1^\\top 1 \\beta_0 - 1^\\top X \\beta = 0\n",
    "    \\Leftrightarrow\n",
    "    \\beta_0 = (1^\\top 1)^{-1} 1^\\top (Y - X \\beta)\n",
    "    \\,. $$\n",
    "\n",
    "$$\n",
    "\\| (I - 1(1^\\top 1)^{-1} 1^\\top) Y - (I - 1(1^\\top 1)^{-1} 1^\\top) X \\beta \\|^2\n",
    "    \\,. $$"
   ]
  },
  {
   "cell_type": "code",
   "execution_count": null,
   "metadata": {},
   "outputs": [],
   "source": [
    "n_min_pts = 3\n",
    "\n",
    "def segment_fit_py(P, i, j, n_min_pts=n_min_pts):\n",
    "    if n_min_pts > j - i:\n",
    "        return np.inf\n",
    "\n",
    "    Y = P[i:j]\n",
    "    Y = Y - Y.mean(0)\n",
    "\n",
    "    t = np.arange(-(j - i - 1) / 2, (j - i + 1) / 2)\n",
    "    resid = Y - t.reshape(-1, 1) * np.dot(t, Y) / np.dot(t, t)\n",
    "    return 0.5 * (resid * resid).sum()"
   ]
  },
  {
   "cell_type": "code",
   "execution_count": null,
   "metadata": {},
   "outputs": [],
   "source": [
    "import numba as nb\n",
    "\n",
    "@nb.jit([\"f8(f8[:, :], i8, i8, i8)\"], nopython=True)\n",
    "def segment_fit_py(P, i, j, n_min_pts):\n",
    "    if n_min_pts > j - i:\n",
    "        return np.inf\n",
    "\n",
    "    Y, mean = P[i:j], np.zeros_like(P[:1])\n",
    "    for k in range(i, j):\n",
    "        mean += P[k]\n",
    "    Y = Y - mean / (j-i)\n",
    "\n",
    "    t = np.arange(-(j - i - 1) / 2, (j - i + 1) / 2)\n",
    "    resid = Y - t.reshape(-1, 1) * np.dot(t, Y) / np.dot(t, t)\n",
    "    return 0.5 * (resid * resid).sum()"
   ]
  },
  {
   "cell_type": "markdown",
   "metadata": {},
   "source": [
    "Given points $\n",
    "    P \\in \\mathbb{R}^{K\\times d}\n",
    "$ and $\n",
    "    \\theta = (\\tfrac{k}{K-1})_{k=0}^{K-1}\n",
    "$ minimize $\n",
    "    \\| P - (1-\\theta)p_0 - \\theta p_1 \\|^2\n",
    "$ with respect to $p_0$ and $p_1$."
   ]
  },
  {
   "cell_type": "code",
   "execution_count": null,
   "metadata": {},
   "outputs": [],
   "source": [
    "V = np.full((M, len(P)), np.inf)\n",
    "for k in range(1, len(P)):\n",
    "    V[0, k] = segment_fit_py(P, 0, k, n_min_pts)\n",
    "\n",
    "for m in tqdm.tqdm(range(1, M)):\n",
    "    for k in range(1, len(P)):\n",
    "        fits = [segment_fit_py(P, j, k, n_min_pts) for j in range(k)]\n",
    "        V[m, k] = min(V[m - 1, :k] + np.r_[fits])"
   ]
  },
  {
   "cell_type": "markdown",
   "metadata": {},
   "source": [
    "Return the endpoints of a fit segment."
   ]
  },
  {
   "cell_type": "code",
   "execution_count": null,
   "metadata": {},
   "outputs": [],
   "source": [
    "def segment_get_py(P, i, j, n_min_pts=n_min_pts):\n",
    "    Y, t = P[i:j], np.arange(-(j - i - 1) / 2, (j - i + 1) / 2)\n",
    "    mY = Y.mean(axis=0, keepdims=True)\n",
    "\n",
    "    beta = np.dot(t, Y - mY) / np.dot(t, t)\n",
    "    return mY + t[0] * beta, mY + t[-1] * beta"
   ]
  },
  {
   "cell_type": "markdown",
   "metadata": {},
   "source": [
    "Reconstruct by backtracking through the value function of the DP."
   ]
  },
  {
   "cell_type": "code",
   "execution_count": null,
   "metadata": {},
   "outputs": [],
   "source": [
    "def reconstruct(P, V):\n",
    "    m, k = M-1, len(P)\n",
    "    while m > 0:\n",
    "        yield k\n",
    "        fits = [segment_fit_py(P, j, k, n_min_pts) for j in range(k)]\n",
    "        k = (np.r_[fits] + V[m-1, :k]).argmin()\n",
    "        m -= 1\n",
    "    yield k\n",
    "    yield 0"
   ]
  },
  {
   "cell_type": "markdown",
   "metadata": {},
   "source": [
    "Project the data onto segments"
   ]
  },
  {
   "cell_type": "code",
   "execution_count": null,
   "metadata": {},
   "outputs": [],
   "source": [
    "def project(P, V):\n",
    "    ix = [*reconstruct(P, V)][::-1]\n",
    "\n",
    "    out = np.full_like(P, np.nan)\n",
    "    for i, j in zip(ix, ix[1:]):\n",
    "        p0, p1 = segment_get_py(P, i, j, n_min_pts)\n",
    "        t = np.c_[np.linspace(0, 1, j-i)]\n",
    "        out[i:j] = p0 * (1 - t) + p1 * t\n",
    "    return out"
   ]
  },
  {
   "cell_type": "code",
   "execution_count": null,
   "metadata": {},
   "outputs": [],
   "source": [
    "from itertools import chain\n",
    "\n",
    "def project_with_averaging(P, V):\n",
    "    ix = [*reconstruct(P, V)][::-1]\n",
    "    \n",
    "    # add zero and final endpoints and average in pairs\n",
    "    points = [segment_get_py(P, i, j, n_min_pts) for i, j in zip(ix, ix[1:])]\n",
    "    points = [np.zeros_like(P[:1])] + [*chain(*points)] + [points[-1][-1]]\n",
    "    points = [0.5*(a+b) for a, b in zip(points[0::2], points[1::2])]\n",
    "    \n",
    "    px = [*zip(ix, points)]\n",
    "\n",
    "    out = np.full_like(P, np.nan)\n",
    "    for (i, p0), (j, p1) in zip(px, px[1:]):\n",
    "        t = np.c_[np.linspace(0, 1, j-i)]\n",
    "        out[i:j] = p0 * (1 - t) + p1 * t\n",
    "    return out"
   ]
  },
  {
   "cell_type": "markdown",
   "metadata": {},
   "source": [
    "Reconstruct"
   ]
  },
  {
   "cell_type": "code",
   "execution_count": null,
   "metadata": {},
   "outputs": [],
   "source": [
    "# out = project(P, V)\n",
    "out = project_with_averaging(P, V)"
   ]
  },
  {
   "cell_type": "markdown",
   "metadata": {},
   "source": [
    "Fit error"
   ]
  },
  {
   "cell_type": "code",
   "execution_count": null,
   "metadata": {},
   "outputs": [],
   "source": [
    "error = (track_true.to_numpy() - out).ravel()\n",
    "\n",
    "np.sqrt((error * error).mean())"
   ]
  },
  {
   "cell_type": "markdown",
   "metadata": {},
   "source": [
    "Plot"
   ]
  },
  {
   "cell_type": "code",
   "execution_count": null,
   "metadata": {},
   "outputs": [],
   "source": [
    "colors = plt.cm.rainbow(np.linspace(0, 1, M))\n",
    "fig, ax = plt.subplots(1, 1, figsize=(16, 9))\n",
    "\n",
    "ix = [*reconstruct(P, V)][::-1]\n",
    "for m, (i, j) in enumerate(zip(ix, ix[1:])):\n",
    "    ax.scatter(*P[i:j].T, c=colors[[m]])\n",
    "\n",
    "# for i, j in zip(ix, ix[1:]):\n",
    "#     p0, p1 = segment_get_py(P, i, j)\n",
    "#     ax.plot(*np.r_[p0, p1].T, c=\"k\", lw=3)\n",
    "\n",
    "ax.plot(track_true.X, track_true.Y, c=\"k\", zorder=10, lw=5)\n",
    "ax.plot(out[:, 0], out[:, 1], c=\"fuchsia\", lw=3, zorder=10)"
   ]
  },
  {
   "cell_type": "markdown",
   "metadata": {},
   "source": [
    "<br>"
   ]
  },
  {
   "cell_type": "markdown",
   "metadata": {},
   "source": [
    "## Greedy Aglomerative Clustering Approach"
   ]
  },
  {
   "cell_type": "markdown",
   "metadata": {},
   "source": [
    "This is a greedy approximation to `Indices and points`."
   ]
  },
  {
   "cell_type": "markdown",
   "metadata": {},
   "source": [
    "Collect the points into $G$ contiguous groups of some minimal length (`n_perseg`),\n",
    "then fit consecutively fit each $p_g$ assuming $p_0 = 0$, $k_0 = 0$, and $k_G = K$:\n",
    "\n",
    "$$\n",
    "V([k_{g-1}, k_g), p_{g-1})\n",
    "    = \\min_{p_g} \\sum_{k=k_{g-1}}^{k_g - 1} \\Bigl\\|\n",
    "        (x_k - p_{g-1})\n",
    "        - (p_g - p_{g-1}) \\frac{k - k_{g-1}}{k_g - k_{g-1} - 1}\n",
    "    \\Bigr \\|^2\n",
    "    \\,. $$\n",
    "\n",
    "Then from the constructed sequence $(p_g)_{g=0}^G$ compute the directional vectors\n",
    "$u_g = \\tfrac{p_g - p_{g-1}}{\\|p_g - p_{g-1}\\|}$. Then find the most collinear\n",
    "directions: $g_* = \\arg \\max_{g=1}^{G-1} u_g^\\top u_{g+1}$. Proceed by merging\n",
    "group $[k_{g_*-1}, k_{g_*})$ with $[k_{g_*}, k_{g_*+1})$. Finally, reestimate\n",
    "$V([k_{g_*-1}, k_{g_*+1}), p_{g_*-1})$ and then **all** $\n",
    "    V([k_{g-1}, k_g), p_{g-1})\n",
    "$ for $g\\geq g_* + 1$ over **new intervals** from the new point $p_{g_*}$."
   ]
  },
  {
   "cell_type": "markdown",
   "metadata": {},
   "source": [
    "Seems like the worst complexity is cubic."
   ]
  },
  {
   "cell_type": "code",
   "execution_count": null,
   "metadata": {},
   "outputs": [],
   "source": [
    "def refit_splits(data, p, u, i0, *splits, c=-np.inf):\n",
    "    # Observe that in a continuous piecewise linear curve, the last\n",
    "    #  endpoint of each segment is the first endpoint of the next\n",
    "    # segment. Thus take that `p` is an estimate of the endpoint\n",
    "    #  associated with data[i0].\n",
    "\n",
    "    yield p, u, i0, -np.inf\n",
    "    d = np.zeros_like(data[:1])\n",
    "    for i1 in splits:\n",
    "        if i1 == i0:\n",
    "            continue\n",
    "\n",
    "        # fit regression x - p \\sim \\tau d w.r.t `d` \\tau \\in [0, 1]\n",
    "        x = data[i0:i1 + 1] - p  # don't care if we fall off the right end of data\n",
    "        if len(x) >= 2:\n",
    "            t = np.linspace(0, 1, len(x))\n",
    "            d = np.dot(t, x) / np.dot(t, t)\n",
    "\n",
    "        # normalize the direction\n",
    "        v = d / np.linalg.norm(d)\n",
    "        c = (-np.inf if u is None else u @ v)\n",
    "        yield p + d, v, i1, c\n",
    "\n",
    "        i0, p, u = i1, p + d, v"
   ]
  },
  {
   "cell_type": "markdown",
   "metadata": {},
   "source": [
    "`n_perseg` is very important."
   ]
  },
  {
   "cell_type": "code",
   "execution_count": null,
   "metadata": {},
   "outputs": [],
   "source": [
    "n_perseg = max(int(np.sqrt(len(P))), 2)"
   ]
  },
  {
   "cell_type": "markdown",
   "metadata": {},
   "source": [
    "Coalesce clusters from ground up."
   ]
  },
  {
   "cell_type": "code",
   "execution_count": null,
   "metadata": {},
   "outputs": [],
   "source": [
    "n_fullseg = (len(P) - 1) // n_perseg\n",
    "splits = [*range(0, len(P) - n_perseg + 1, n_perseg), len(P)]\n",
    "\n",
    "segments = [*refit_splits(P, np.zeros_like(P[0]), None, *splits)]\n",
    "levels = [segments[:]]\n",
    "while len(segments) > 2:\n",
    "    k = np.argmax([c for p, u, i, c in segments]) - 1\n",
    "    p, u, i0, c = segments[k-1]\n",
    "    del splits[k]\n",
    "\n",
    "    _, *tail = refit_splits(P, p, u, i0, *splits[k:])\n",
    "    segments = segments[:k] + tail\n",
    "\n",
    "    levels.append(segments[:])"
   ]
  },
  {
   "cell_type": "markdown",
   "metadata": {},
   "source": [
    "Reconstruct"
   ]
  },
  {
   "cell_type": "code",
   "execution_count": null,
   "metadata": {},
   "outputs": [],
   "source": [
    "pts = [p for p, u, i, c in levels[-M]]\n",
    "ixs = [i for p, u, i, c in levels[-M]]\n",
    "\n",
    "out = np.full_like(P, np.nan)\n",
    "ptix = [*zip(ixs, pts)]\n",
    "for (i, pi), (j, pj) in zip(ptix, ptix[1:]):\n",
    "    t = np.c_[np.linspace(0, 1, j-i)]\n",
    "    out[i:j] = pi * (1 - t) + pj * t"
   ]
  },
  {
   "cell_type": "markdown",
   "metadata": {},
   "source": [
    "Fit error"
   ]
  },
  {
   "cell_type": "code",
   "execution_count": null,
   "metadata": {},
   "outputs": [],
   "source": [
    "error = (track_true.to_numpy() - out).ravel()\n",
    "np.sqrt((error * error).mean())"
   ]
  },
  {
   "cell_type": "code",
   "execution_count": null,
   "metadata": {},
   "outputs": [],
   "source": [
    "colors = plt.cm.rainbow(np.linspace(0, 1, len(ixs)-1))\n",
    "fig, ax = plt.subplots(1, 1, figsize=(16, 9))\n",
    "\n",
    "for m, (i, j) in enumerate(zip(ixs, ixs[1:])):\n",
    "    ax.scatter(*P[i:j].T, c=colors[[m]])\n",
    "\n",
    "ax.plot(track_true.X, track_true.Y, c=\"k\", zorder=10, lw=5)\n",
    "ax.plot(out[:, 0], out[:, 1], c=\"fuchsia\", lw=3, zorder=10)"
   ]
  },
  {
   "cell_type": "markdown",
   "metadata": {},
   "source": [
    "<br>"
   ]
  },
  {
   "cell_type": "markdown",
   "metadata": {},
   "source": [
    "## Markov chain functional demux"
   ]
  },
  {
   "cell_type": "markdown",
   "metadata": {},
   "source": [
    "Use mixture separation but assume that latent variables $z_k\\in \\{1 .. M\\}$\n",
    "follow a $1$-st order markov chain with $\n",
    "    \\pi_{ij} = 0\n",
    "$ if $i < j$ or $i > j + 1$, where $\n",
    "    \\mathbb{P}(z_{k+1} = i \\mid z_k = j) = \\pi_{ij}\n",
    "$ (lower bidiagonal matrix):\n",
    "$$\n",
    "\\pi = \\begin{pmatrix}\n",
    "    \\pi_{11} & 0 & 0 & \\cdots & 0 \\\\\n",
    "    \\pi_{21} & \\pi_{22} & 0 & \\cdots & 0 \\\\\n",
    "    0 & \\pi_{32} & \\pi_{33} & \\cdots & 0 \\\\\n",
    "    \\vdots & \\vdots & \\vdots & \\ddots & \\vdots \\\\\n",
    "    0 & 0 & 0 & \\cdots & \\pi_{MM}\n",
    "\\end{pmatrix}\n",
    "\\,. $$\n"
   ]
  },
  {
   "cell_type": "markdown",
   "metadata": {},
   "source": [
    "Then at the E-step we estimate the current states (filtering + smoothing):\n",
    "$$\n",
    "q_{ki} = \\sum_{z_{-k}}\n",
    "    \\mathbb{P}(z_k = i \\mid z_{-k}, x, p)\n",
    "    \\mathbb{P}(z_{-k} \\mid x, p)\n",
    "\\,, $$\n",
    "(verify)"
   ]
  },
  {
   "cell_type": "markdown",
   "metadata": {},
   "source": [
    "<br>"
   ]
  },
  {
   "cell_type": "code",
   "execution_count": null,
   "metadata": {},
   "outputs": [],
   "source": [
    "X = np.diff(P, axis=0)"
   ]
  },
  {
   "cell_type": "code",
   "execution_count": null,
   "metadata": {},
   "outputs": [],
   "source": [
    "plt.scatter(*X.T, c=plt.cm.rainbow(np.linspace(0, 1, len(X))))"
   ]
  },
  {
   "cell_type": "code",
   "execution_count": null,
   "metadata": {},
   "outputs": [],
   "source": [
    "mu = np.random.randn(M, *X.shape[1:])\n",
    "sigma2 = 25.0**2\n"
   ]
  },
  {
   "cell_type": "code",
   "execution_count": null,
   "metadata": {},
   "outputs": [],
   "source": [
    "pr = 0.99\n",
    "Pi = pr * np.eye(M) + (1-pr) * np.eye(M, k=1)\n",
    "\n",
    "Pi[-1, -1] = 1."
   ]
  },
  {
   "cell_type": "code",
   "execution_count": null,
   "metadata": {},
   "outputs": [],
   "source": [
    "Pi[3, 3] = 0.5 ; Pi[3, 4] = 0.5\n",
    "Pi[5, 5] = 0.5 ; Pi[5, 6] = 0.5"
   ]
  },
  {
   "cell_type": "code",
   "execution_count": null,
   "metadata": {},
   "outputs": [],
   "source": [
    "Pi"
   ]
  },
  {
   "cell_type": "markdown",
   "metadata": {},
   "source": [
    "See notes under the kb"
   ]
  },
  {
   "cell_type": "markdown",
   "metadata": {},
   "source": [
    "Let $\n",
    "    \\xi_{t\\mid T} = \\Pr\\bigl(\n",
    "        S_t \\mid x_T \\cdots x_1\n",
    "    \\bigr)\n",
    "$ and we assume that $\n",
    "    S_t \\bot (X_\\tau)_{\\tau < t} \\mid S_{t-1}\n",
    "$ as well as $\n",
    "    S_t \\bot (X_\\tau)_{\\tau > t} \\mid S_{t+1}\n",
    "$. Then for $t > T$ we have $\n",
    "    \\xi_{t\\mid T} = \\Pi^\\top \\xi_{t-1\\mid T}\n",
    "$, $\n",
    "    \\xi_{t\\mid t} = \\eta_t \\odot \\xi_{t\\mid t-1}\n",
    "$ and $\n",
    "    \\xi_{t\\mid T} = \\xi_{t\\mid t}\n",
    "        \\odot \\Pi (\\xi_{t+1\\mid T} \\div \\xi_{t+1\\mid t})\n",
    "$ for $t < T$."
   ]
  },
  {
   "cell_type": "markdown",
   "metadata": {},
   "source": [
    "$$\n",
    "(2\\pi)^{-\\tfrac{d}2} \\lvert\\Sigma \\rvert^{-\\tfrac12}\n",
    "    \\exp\\{\n",
    "        -\\tfrac12 (x-\\mu)^\\top \\Sigma^{-1} (x-\\mu)\n",
    "    \\}\n",
    "\\,. $$\n",
    "For $\\Sigma = \\sigma^2 I$ we have $\n",
    "    \\lvert\\Sigma \\rvert = (\\sigma^2)^d\n",
    "$."
   ]
  },
  {
   "cell_type": "code",
   "execution_count": null,
   "metadata": {},
   "outputs": [],
   "source": [
    "def pdf(x, mu, sigma2):\n",
    "    return np.exp(-0.5 * len(x) * (\n",
    "        np.log(2 * np.pi * sigma2)\n",
    "        + (x - mu) @ (x - mu) / (sigma2 * len(x))\n",
    "    ))"
   ]
  },
  {
   "cell_type": "code",
   "execution_count": null,
   "metadata": {},
   "outputs": [],
   "source": [
    "# e-step\n",
    "xit = np.zeros((len(X), M))\n",
    "\n",
    "# filtering: \\xi_{t \\mid t}\n",
    "xit[0, 0] = 1.  # start at segment 0\n",
    "for t in range(1, len(X)):\n",
    "    probs = np.r_[[pdf(X[t], m, sigma2) for m in mu]]\n",
    "    xit[t] = probs * (Pi.T @ xit[t-1])\n",
    "    xit[t] /= xit[t].sum()\n",
    "\n",
    "# smoothing: \\xi_{t\\mid T}\n",
    "xiT = np.zeros((len(X), M))\n",
    "xiT[-1, -1] = 1.  # end at semgent M-1  # xiT[-1] = xit[-1]\n",
    "for t in range(len(X)-1, 0, -1):\n",
    "    ratio = np.nan_to_num(xiT[t] / (Pi.T @ xit[t-1]))\n",
    "    xiT[t-1] = xit[t-1] * (Pi @ ratio)\n",
    "\n",
    "# m-step\n",
    "wx = X[:, np.newaxis] * xiT[..., np.newaxis]\n",
    "mu = wx.sum(0) / xiT.sum(0)[:, np.newaxis]\n",
    "\n",
    "fig, ax = plt.subplots(1, 2)\n",
    "ax[0].plot(xiT);\n",
    "ax[1].scatter(*mu.T, c=plt.cm.rainbow(np.linspace(0, 1, num=len(mu))));"
   ]
  },
  {
   "cell_type": "code",
   "execution_count": null,
   "metadata": {},
   "outputs": [],
   "source": [
    "plt.scatter(*X.T, c=plt.cm.rainbow(np.linspace(0, 1, len(X))))\n",
    "\n",
    "plt.scatter(*mu.T, c=\"k\", s=50)"
   ]
  },
  {
   "cell_type": "code",
   "execution_count": null,
   "metadata": {},
   "outputs": [],
   "source": [
    "plt.plot(xit);"
   ]
  },
  {
   "cell_type": "code",
   "execution_count": null,
   "metadata": {
    "scrolled": false
   },
   "outputs": [],
   "source": [
    "assert False"
   ]
  },
  {
   "cell_type": "markdown",
   "metadata": {},
   "source": [
    "<br>"
   ]
  }
 ],
 "metadata": {
  "kernelspec": {
   "display_name": "Python 3",
   "language": "python",
   "name": "python3"
  },
  "language_info": {
   "codemirror_mode": {
    "name": "ipython",
    "version": 3
   },
   "file_extension": ".py",
   "mimetype": "text/x-python",
   "name": "python",
   "nbconvert_exporter": "python",
   "pygments_lexer": "ipython3",
   "version": "3.8.5"
  }
 },
 "nbformat": 4,
 "nbformat_minor": 2
}
