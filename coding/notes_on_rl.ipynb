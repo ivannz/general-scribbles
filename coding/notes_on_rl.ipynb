{
 "cells": [
  {
   "cell_type": "markdown",
   "metadata": {},
   "source": [
    "Consider a measurable space $(\\Omega, \\mathcal{F})$. A map\n",
    "$Q\\colon\\Omega \\times \\mathcal{F} \\to [0, +\\infty)$ is a transition\n",
    "kernel if\n",
    "\n",
    "* $Q(\\cdot, A)$ is measurable map for any $A \\in \\mathcal{F}$\n",
    "\n",
    "* $Q(\\omega, \\cdot)$ is a finite measure on $(\\Omega, \\mathcal{F})$ \n",
    "  for any $\\omega \\in \\Omega$\n"
   ]
  },
  {
   "cell_type": "markdown",
   "metadata": {},
   "source": [
    "For any measurable map $f$ we can define a measurable map\n",
    "\n",
    "$$\n",
    "    T f\n",
    "    \\colon x \\mapsto \\int f(\\omega) \\, Q(x, d\\omega)\n",
    "    \\,. $$\n",
    "\n",
    "\n",
    "For a measure $\\lambda$ on $(\\Omega, \\mathcal{F})$ we can similarly\n",
    "define a measure\n",
    "\n",
    "$$\n",
    "    T^* \\lambda\n",
    "    \\colon A \\mapsto \\int Q(\\omega, A) \\lambda(d\\omega)\n",
    "    \\,. $$\n"
   ]
  },
  {
   "cell_type": "markdown",
   "metadata": {},
   "source": [
    "A dual pairing:\n",
    "\n",
    "$$\n",
    "\\langle\n",
    "    f, \\lambda\n",
    "\\rangle = \\int f(\\omega) \\lambda(d\\omega)\n",
    "    \\,. $$\n",
    "\n",
    "We can show that $\n",
    "\\langle\n",
    "    T f, \\lambda\n",
    "\\rangle = \\langle\n",
    "        f, T^* \\lambda\n",
    "    \\rangle\n",
    "$ via Fubini (?) theorem:\n",
    "\n",
    "$$\n",
    "\\int T f(x) \\lambda(dx)\n",
    "    = \\int \\int f(\\omega) \\, Q(x, d\\omega) \\lambda(dx)\n",
    "    % = \\iint f(\\omega) \\lambda(dx) Q(x, d\\omega)\n",
    "    = \\int f(\\omega) \\int \\lambda(dx) Q(x, d\\omega)\n",
    "    = \\int f(\\omega) (T^* \\lambda)(d\\omega)\n",
    "    \\,. $$"
   ]
  },
  {
   "cell_type": "code",
   "execution_count": 1,
   "metadata": {},
   "outputs": [],
   "source": [
    "import numpy as np\n",
    "\n",
    "%matplotlib inline\n",
    "import matplotlib.pyplot as plt"
   ]
  },
  {
   "cell_type": "code",
   "execution_count": 2,
   "metadata": {},
   "outputs": [],
   "source": [
    "import torch\n",
    "import torch.nn.functional as F"
   ]
  },
  {
   "cell_type": "code",
   "execution_count": 3,
   "metadata": {},
   "outputs": [],
   "source": [
    "import gym"
   ]
  },
  {
   "cell_type": "markdown",
   "metadata": {},
   "source": [
    "A display device"
   ]
  },
  {
   "cell_type": "code",
   "execution_count": 4,
   "metadata": {},
   "outputs": [],
   "source": [
    "from IPython.display import clear_output\n",
    "\n",
    "from time import sleep\n",
    "\n",
    "def display(env, fps=15):\n",
    "    if fps > 0:\n",
    "        clear_output(wait=True)\n",
    "        env.render()\n",
    "        sleep(1. / fps)"
   ]
  },
  {
   "cell_type": "markdown",
   "metadata": {},
   "source": [
    "Environment simulation loop:"
   ]
  },
  {
   "cell_type": "code",
   "execution_count": 5,
   "metadata": {},
   "outputs": [],
   "source": [
    "from dpd.tools.delayed import DelayedKeyboardInterrupt\n",
    "\n",
    "def run(env, policy, fps=15):\n",
    "    state, terminate = env.reset(), False\n",
    "\n",
    "    display(env, fps)\n",
    "    with DelayedKeyboardInterrupt(\"ignore\") as stop:\n",
    "        while not (terminate or stop):\n",
    "    \n",
    "            # take an action and get a response form the environment\n",
    "            action = policy(env, state)\n",
    "            state_prime, reward, terminate, info = env.step(action)\n",
    "\n",
    "            # return the result\n",
    "            yield state, action, reward, state_prime, terminate\n",
    "            state = state_prime\n",
    "\n",
    "            # render the enviroment\n",
    "            display(env, fps)\n",
    "\n",
    "        env.close()"
   ]
  },
  {
   "cell_type": "markdown",
   "metadata": {},
   "source": [
    "<br>"
   ]
  },
  {
   "cell_type": "markdown",
   "metadata": {},
   "source": [
    "## From Whiteson lecture on MLSS 2019"
   ]
  },
  {
   "cell_type": "code",
   "execution_count": 59,
   "metadata": {},
   "outputs": [],
   "source": [
    "from gym.envs.toy_text import FrozenLakeEnv, CliffWalkingEnv\n",
    "\n",
    "env = FrozenLakeEnv(map_name=\"8x8\", is_slippery=True)"
   ]
  },
  {
   "cell_type": "markdown",
   "metadata": {},
   "source": [
    "<br>"
   ]
  },
  {
   "cell_type": "markdown",
   "metadata": {},
   "source": [
    "MDP -- classical formal model of a sequential decision problem:\n",
    "\n",
    "* fully-observable, stationary, and possibly stochastic environment\n",
    "\n",
    "* discrete states $S$ and actions $A_s$ for each $s \\in S$\n",
    "\n",
    "* transition kernel $s\\to z \\colon z\\sim q(z\\mid s, a)$ on $S$\n",
    "\n",
    "* reward distributuion $q(r\\mid s, a, s')$ when transitioning $s \\to s'$ under $a$\n",
    "\n",
    "* aplanning horizon or a discount factor $\\gamma \\in (0, 1)$"
   ]
  },
  {
   "cell_type": "markdown",
   "metadata": {},
   "source": [
    "Markov property\n",
    "$p(z_{t+1}, r_{t+1}\\mid s_t, a_t) = p(z_{t+1}, r_{t+1}\\mid s_t, a_t, s_{:t}, a_{:t})$\n",
    "\n",
    "* Reactive policies $a\\sim \\pi(a\\mid s)$\n",
    "* deterministic policies\n"
   ]
  },
  {
   "cell_type": "markdown",
   "metadata": {},
   "source": [
    "**State-value** of a policy $\n",
    "v^\\pi(s) = \\mathbb{E}_\\pi \\bigl(\n",
    "    \\sum_{k\\geq 1} \\gamma r_{t+k+1}\n",
    "    \\big\\vert s_t = s\n",
    "\\bigr)\n",
    "$ and **action-value** $\n",
    "Q^\\pi(s, a) = \\mathbb{E}_\\pi \\bigl(\n",
    "    \\sum_{k\\geq 1} \\gamma r_{t+k+1}\n",
    "    \\big\\vert s_t = s, a_t = a\n",
    "\\bigr)\n",
    "$"
   ]
  },
  {
   "cell_type": "markdown",
   "metadata": {},
   "source": [
    "Bellman fixed-point equation for $v^\\pi$:\n",
    "$$\n",
    "v^\\pi(s)\n",
    "    = \\mathbb{E}_{a\\sim \\pi(s)} \\mathbb{E}_{s' \\sim q(s'\\mid s, a)}\n",
    "        r(s, a, s') + \\gamma v^\\pi(s')\n",
    "    \\,, $$\n",
    "\n",
    "and for $q^\\pi$\n",
    "\n",
    "$$\n",
    "q^\\pi(s, a)\n",
    "    = \\mathbb{E}_{s' \\sim q(s'\\mid s, a)}\n",
    "        r(s, a, s') + \\gamma \\mathbb{E}_{a'\\sim \\pi(s')} q^\\pi(s', a')\n",
    "    = \\mathbb{E}_{s' \\sim q(s'\\mid s, a)}\n",
    "        r(s, a, s') + \\gamma v^\\pi(s')\n",
    "    \\,. $$"
   ]
  },
  {
   "cell_type": "markdown",
   "metadata": {},
   "source": [
    "Policies can be partially oredered by their value function. And\n",
    "all optimal policies share the same optimal state valeu function\n",
    "$v^*(\\cdot) = \\max_\\pi v^\\pi(\\cdot)$."
   ]
  },
  {
   "cell_type": "markdown",
   "metadata": {},
   "source": [
    "The Bellamn optimality conditions for $v^*$ and are\n",
    "\n",
    "$$\n",
    "v^*(s)\n",
    "    = \\max_{a\\in A_s} \\mathbb{E}_{s' \\sim q(s'\\mid s, a)}\n",
    "        r(s, a, s') + \\gamma v^*(s')\n",
    "    \\,, $$\n",
    "\n",
    "and\n",
    "\n",
    "$$\n",
    "q^*(s, a)\n",
    "    = \\mathbb{E}_{z \\sim q(s'\\mid s, a)}\n",
    "        r(s, a, s') + \\gamma \\max_{a'\\in A_{s'}}  q^*(s', a')\n",
    "    \\,, $$\n",
    "\n",
    "respectively. The optimal policy is greedy with respect to $q$:\n",
    "\n",
    "$$\n",
    "\\pi^*(s)\n",
    "    = \\delta_{a^*_s}\n",
    "    \\,, \\text{ for }\n",
    "    a^*_s = \\arg\\max_{a\\in A_s} q^*(s, a)\n",
    "    \\,. $$"
   ]
  },
  {
   "cell_type": "markdown",
   "metadata": {},
   "source": [
    "<br>"
   ]
  },
  {
   "cell_type": "markdown",
   "metadata": {},
   "source": [
    "### Random policy"
   ]
  },
  {
   "cell_type": "code",
   "execution_count": 60,
   "metadata": {},
   "outputs": [
    {
     "name": "stdout",
     "output_type": "stream",
     "text": [
      "  (Left)\n",
      "SFFFFFFF\n",
      "FFFFFFFF\n",
      "FFF\u001b[41mH\u001b[0mFFFF\n",
      "FFFFFHFF\n",
      "FFFHFFFF\n",
      "FHHFFFHF\n",
      "FHFFHFHF\n",
      "FFFHFFFG\n"
     ]
    }
   ],
   "source": [
    "def random(env, state=None):\n",
    "    return env.action_space.sample()\n",
    "\n",
    "episode = [*run(env, random, fps=10)]"
   ]
  },
  {
   "cell_type": "markdown",
   "metadata": {},
   "source": [
    "<br>"
   ]
  },
  {
   "cell_type": "markdown",
   "metadata": {},
   "source": [
    "## Policy Evaluation"
   ]
  },
  {
   "cell_type": "markdown",
   "metadata": {},
   "source": [
    "Bellman operator for a policy $\\pi\\colon \\mathcal{S} \\to \\Delta_A$\n",
    "$$\n",
    "T_\\pi(v)\n",
    "\\colon s \\mapsto \\mathbb{E}_{a\\sim \\pi(a\\mid s)}\n",
    "    \\mathbb{E}_{z\\sim q(z\\mid s, a)} r(s, a, z) + \\gamma v(z)\n",
    "    \\,. $$"
   ]
  },
  {
   "cell_type": "code",
   "execution_count": 61,
   "metadata": {},
   "outputs": [],
   "source": [
    "def expected_state_reward(states, value, gamma=1.0):\n",
    "    # kernel -- list of next state-rewards with probabilities\n",
    "    return sum(\n",
    "        prob * (reward + gamma * value[state])\n",
    "        for prob, state, reward, term in states\n",
    "    )"
   ]
  },
  {
   "cell_type": "code",
   "execution_count": 62,
   "metadata": {},
   "outputs": [],
   "source": [
    "def expected_action_reward(actions, kernel, value, gamma=1.0):\n",
    "    # policy -- list of actions with probabilities\n",
    "    return sum(\n",
    "        prob * expected_state_reward(kernel[action], value, gamma)\n",
    "        for prob, action in actions\n",
    "    )"
   ]
  },
  {
   "cell_type": "markdown",
   "metadata": {},
   "source": [
    "The policy evaluation is performed via the fixed point iterations:\n",
    "\n",
    "* repeat $v_{t+1} \\leftarrow T_\\pi(v_t)$ until convergence in $\\|\\cdot\\|_\\infty$\n"
   ]
  },
  {
   "cell_type": "code",
   "execution_count": 10,
   "metadata": {},
   "outputs": [],
   "source": [
    "def evaluate_policy(env, policy, gamma=1.0, atol=1e-8):\n",
    "    value, delta = {state: 0. for state in env.P}, float(\"+inf\")\n",
    "    while delta > atol:\n",
    "        Tv = {\n",
    "            state: expected_action_reward(policy[state], kernel, value, gamma)\n",
    "            for state, kernel in env.P.items()\n",
    "        }\n",
    "        \n",
    "        delta = max(abs(a - b) for a, b in zip(Tv.values(), value.values()))\n",
    "        value = Tv\n",
    "\n",
    "    return value"
   ]
  },
  {
   "cell_type": "markdown",
   "metadata": {},
   "source": [
    "Let's evaluate a random exploration policy:"
   ]
  },
  {
   "cell_type": "code",
   "execution_count": 11,
   "metadata": {},
   "outputs": [],
   "source": [
    "gamma = 1.\n",
    "\n",
    "policy = {\n",
    "    state: [(1. / env.nA, action) for action in kernel]\n",
    "    for state, kernel in env.P.items()\n",
    "}\n",
    "\n",
    "value = evaluate_policy(env, policy, gamma)"
   ]
  },
  {
   "cell_type": "markdown",
   "metadata": {},
   "source": [
    "The $q$-function of $v$ is\n",
    "$$\n",
    "q_\\infty(s, a)\n",
    "    = \\mathbb{E}_{s'\\sim q(s'\\mid s, a)}\n",
    "        r(s, a, s') + \\gamma v_\\infty(s')\n",
    "    \\,. $$"
   ]
  },
  {
   "cell_type": "code",
   "execution_count": 12,
   "metadata": {},
   "outputs": [],
   "source": [
    "q_fun = {\n",
    "    state: {\n",
    "        action: expected_state_reward(states, value, gamma)\n",
    "        for action, states in kernel.items()\n",
    "    } for state, kernel in env.P.items()\n",
    "}"
   ]
  },
  {
   "cell_type": "code",
   "execution_count": 27,
   "metadata": {},
   "outputs": [],
   "source": [
    "def greedy_q(value):\n",
    "    q_max = max(value.values())\n",
    "    mask = [reward >= q_max for reward in value.values()]\n",
    "    n_sum = sum(mask)\n",
    "\n",
    "    return [(prob / n_sum, action)\n",
    "            for action, prob in zip(value, mask)]"
   ]
  },
  {
   "cell_type": "code",
   "execution_count": 28,
   "metadata": {},
   "outputs": [],
   "source": [
    "policy = {\n",
    "    state: greedy_q(value) for state, value in q_fun.items()\n",
    "}"
   ]
  },
  {
   "cell_type": "markdown",
   "metadata": {},
   "source": [
    "<br>"
   ]
  },
  {
   "cell_type": "markdown",
   "metadata": {},
   "source": [
    "## Policy improvement"
   ]
  },
  {
   "cell_type": "markdown",
   "metadata": {},
   "source": [
    "The fixed point $v^\\pi$ is the true value function of $\\pi$. The associated $q$ function ca be used to reason about improvements in the policy $\\pi$:\n",
    "if at some $s\\in S$ we have $q^\\pi(s, a_s) > v^\\pi(s)$ for some $a_s \\in A_s$ then the new policy $\\hat{\\pi}(\\cdot) = \\pi(\\cdot)$ but $\\hat{\\pi}(s) = \\delta_{a_s}$ is strictly better than $\\pi$ (w.r.t $v$-function)"
   ]
  },
  {
   "cell_type": "markdown",
   "metadata": {},
   "source": [
    "Applying this to all states yields the **greedy** policy improvement:\n",
    "\n",
    "$$\n",
    "\\pi_{t+1}(s) \\in \\arg\\max_{a\\in A_s} q^{\\pi_t}(s, a)\n",
    "    \\,. $$"
   ]
  },
  {
   "cell_type": "code",
   "execution_count": 44,
   "metadata": {},
   "outputs": [],
   "source": [
    "def policy_improvement(env, gamma=1.0, atol=1e-8):\n",
    "    policy = {\n",
    "        state: [(1. / env.nA, action) for action in kernel]\n",
    "        for state, kernel in env.P.items()\n",
    "    }\n",
    "\n",
    "    value, delta = evaluate_policy(env, policy, gamma), float(\"+inf\")\n",
    "    print(value)\n",
    "    while delta > atol*1000:\n",
    "        q_fun = {\n",
    "            state: {\n",
    "                action: expected_state_reward(states, value, gamma)\n",
    "                for action, states in kernel.items()\n",
    "            } for state, kernel in env.P.items()\n",
    "        }\n",
    "\n",
    "        policy = {\n",
    "            state: greedy_q(value) for state, value in q_fun.items()\n",
    "        }\n",
    "        new = evaluate_policy(env, policy, gamma)\n",
    "\n",
    "        delta = max(abs(a - b) for a, b in zip(new.values(), value.values()))\n",
    "        value = new\n",
    "        print(value)\n",
    "\n",
    "    return value, policy"
   ]
  },
  {
   "cell_type": "markdown",
   "metadata": {},
   "source": [
    "If $\\pi_{t+1} = \\pi_t$ then $v^{\\pi_t} = v^{\\pi_{t+1}} = v$, which\n",
    "satisfies the Bellamn Optimizality principle:\n",
    "$T(v) = v$ for\n",
    "$$\n",
    "T(v)(s) = \\max_{a\\in A_s}\n",
    "    \\mathbb{E}_{z\\sim q(s'\\mid s, a)} r(s, a, s') + \\gamma v(s')\n",
    "    \\,. $$"
   ]
  },
  {
   "cell_type": "code",
   "execution_count": 45,
   "metadata": {},
   "outputs": [
    {
     "name": "stdout",
     "output_type": "stream",
     "text": [
      "{0: 0.0019034917913191038, 1: 0.0021696792436437335, 2: 0.0028150668643954074, 3: 0.004120481261236543, 4: 0.006547679453827359, 5: 0.009803216344269209, 6: 0.013447781895831665, 7: 0.01597009054274122, 8: 0.00163734211974823, 9: 0.001790514408962211, 10: 0.0021550714943247297, 11: 0.0029987255643118293, 12: 0.005719369174153175, 13: 0.009414218174120834, 14: 0.014570071824405437, 15: 0.018492433867286894, 16: 0.001218053951006093, 17: 0.0011999955713605007, 18: 0.0010160045684423939, 19: 0.0, 20: 0.003916875306314802, 21: 0.007564240159817048, 22: 0.016925881599881645, 23: 0.02493716961635377, 24: 0.0008168512084205238, 25: 0.0007754327286982362, 26: 0.0007089667154352155, 27: 0.0007732163271153411, 28: 0.002383902471090605, 29: 0.0, 30: 0.02063206470158456, 31: 0.03939321639661987, 32: 0.0004570863155807352, 33: 0.00037593357827042304, 34: 0.0002712238238873024, 35: 0.0, 36: 0.004845522515379675, 37: 0.011594196346800688, 38: 0.02620917131062662, 39: 0.07261042968220219, 40: 0.000178485767020247, 41: 0.0, 42: 0.0, 43: 0.0014483570031181528, 44: 0.005403993113957164, 45: 0.015322093697535611, 46: 0.0, 47: 0.15222890971248396, 48: 7.837590545911221e-05, 49: 0.0, 50: 0.00010938355155083325, 51: 0.0003894351183245411, 52: 0.0, 53: 0.04429018614979862, 54: 0.0, 55: 0.3840763028387249, 56: 5.6644264979591954e-05, 57: 3.4914257395731416e-05, 58: 4.809917963662172e-05, 59: 0.0, 60: 0.053946217035104375, 61: 0.16183865114604498, 62: 0.3872795503684377, 63: 0.0}\n",
      "{0: 1.0, 1: 1.0, 2: 1.0, 3: 1.0, 4: 1.0, 5: 1.0, 6: 1.0, 7: 1.0, 8: 1.0, 9: 1.0, 10: 1.0, 11: 1.0, 12: 1.0, 13: 1.0, 14: 1.0, 15: 1.0, 16: 1.0, 17: 1.0, 18: 1.0, 19: 0.0, 20: 1.0, 21: 1.0, 22: 1.0, 23: 1.0, 24: 1.0, 25: 1.0, 26: 1.0, 27: 1.0, 28: 1.0, 29: 0.0, 30: 1.0, 31: 1.0, 32: 1.0, 33: 1.0, 34: 1.0, 35: 0.0, 36: 1.0, 37: 1.0, 38: 1.0, 39: 1.0, 40: 1.0, 41: 0.0, 42: 0.0, 43: 1.0, 44: 1.0, 45: 1.0, 46: 0.0, 47: 1.0, 48: 1.0, 49: 0.0, 50: 1.0, 51: 1.0, 52: 0.0, 53: 1.0, 54: 0.0, 55: 1.0, 56: 1.0, 57: 1.0, 58: 1.0, 59: 0.0, 60: 1.0, 61: 1.0, 62: 1.0, 63: 0.0}\n",
      "{0: 0.9999958432102166, 1: 0.9999958838423539, 2: 0.9999959663980844, 3: 0.9999960917976356, 4: 0.9999962396276203, 5: 0.9999963686956748, 6: 0.9999964745473815, 7: 0.9999965335652999, 8: 0.9999958424073112, 9: 0.9999958813586662, 10: 0.9999959622031427, 11: 0.999996106814537, 12: 0.9999962944204182, 13: 0.9999964267061954, 14: 0.9999965551611001, 15: 0.999996625797655, 16: 0.9999958424899758, 17: 0.9999958764455609, 18: 0.9999959329303566, 19: 0.0, 20: 0.9999964400391776, 21: 0.9999965227859205, 22: 0.9999967266006797, 23: 0.9999968209972565, 24: 0.9999958484531883, 25: 0.9999958885140241, 26: 0.9999959893695354, 27: 0.9999962499488386, 28: 0.9999965284941286, 29: 0.0, 30: 0.999997038823266, 31: 0.9999971410537765, 32: 0.9999958541345599, 33: 0.9999958791829551, 34: 0.999995924513694, 35: 0.0, 36: 0.9999969204416399, 37: 0.9999972003458923, 38: 0.9999972700952355, 39: 0.9999975907344538, 40: 0.9999958744920943, 41: 0.0, 42: 0.0, 43: 0.9999968339513757, 44: 0.9999970546155185, 45: 0.9999974306199462, 46: 0.0, 47: 0.9999983841392781, 48: 0.9999959244967518, 49: 0.0, 50: 0.999996439111922, 51: 0.9999966284553424, 52: 0.0, 53: 0.9999980553627545, 54: 0.0, 55: 0.9999991891561569, 56: 0.9999960037891841, 57: 0.999996121372224, 58: 0.9999962668282334, 59: 0.0, 60: 0.9999986831130293, 61: 0.9999986894220562, 62: 0.9999993423479867, 63: 0.0}\n"
     ]
    }
   ],
   "source": [
    "value, policy = policy_improvement(env)"
   ]
  },
  {
   "cell_type": "code",
   "execution_count": 43,
   "metadata": {},
   "outputs": [
    {
     "data": {
      "text/plain": [
       "{0: [(0.25, 0), (0.25, 1), (0.25, 2), (0.25, 3)],\n",
       " 1: [(0.25, 0), (0.25, 1), (0.25, 2), (0.25, 3)],\n",
       " 2: [(0.25, 0), (0.25, 1), (0.25, 2), (0.25, 3)],\n",
       " 3: [(0.25, 0), (0.25, 1), (0.25, 2), (0.25, 3)],\n",
       " 4: [(0.25, 0), (0.25, 1), (0.25, 2), (0.25, 3)],\n",
       " 5: [(0.25, 0), (0.25, 1), (0.25, 2), (0.25, 3)],\n",
       " 6: [(0.25, 0), (0.25, 1), (0.25, 2), (0.25, 3)],\n",
       " 7: [(0.25, 0), (0.25, 1), (0.25, 2), (0.25, 3)],\n",
       " 8: [(0.25, 0), (0.25, 1), (0.25, 2), (0.25, 3)],\n",
       " 9: [(0.25, 0), (0.25, 1), (0.25, 2), (0.25, 3)],\n",
       " 10: [(0.25, 0), (0.25, 1), (0.25, 2), (0.25, 3)],\n",
       " 11: [(0.3333333333333333, 0),\n",
       "  (0.0, 1),\n",
       "  (0.3333333333333333, 2),\n",
       "  (0.3333333333333333, 3)],\n",
       " 12: [(0.25, 0), (0.25, 1), (0.25, 2), (0.25, 3)],\n",
       " 13: [(0.25, 0), (0.25, 1), (0.25, 2), (0.25, 3)],\n",
       " 14: [(0.25, 0), (0.25, 1), (0.25, 2), (0.25, 3)],\n",
       " 15: [(0.25, 0), (0.25, 1), (0.25, 2), (0.25, 3)],\n",
       " 16: [(0.25, 0), (0.25, 1), (0.25, 2), (0.25, 3)],\n",
       " 17: [(0.25, 0), (0.25, 1), (0.25, 2), (0.25, 3)],\n",
       " 18: [(0.3333333333333333, 0),\n",
       "  (0.3333333333333333, 1),\n",
       "  (0.0, 2),\n",
       "  (0.3333333333333333, 3)],\n",
       " 19: [(0.25, 0), (0.25, 1), (0.25, 2), (0.25, 3)],\n",
       " 20: [(0.0, 0),\n",
       "  (0.3333333333333333, 1),\n",
       "  (0.3333333333333333, 2),\n",
       "  (0.3333333333333333, 3)],\n",
       " 21: [(0.3333333333333333, 0),\n",
       "  (0.0, 1),\n",
       "  (0.3333333333333333, 2),\n",
       "  (0.3333333333333333, 3)],\n",
       " 22: [(0.25, 0), (0.25, 1), (0.25, 2), (0.25, 3)],\n",
       " 23: [(0.25, 0), (0.25, 1), (0.25, 2), (0.25, 3)],\n",
       " 24: [(0.25, 0), (0.25, 1), (0.25, 2), (0.25, 3)],\n",
       " 25: [(0.25, 0), (0.25, 1), (0.25, 2), (0.25, 3)],\n",
       " 26: [(0.25, 0), (0.25, 1), (0.25, 2), (0.25, 3)],\n",
       " 27: [(0.5, 0), (0.0, 1), (0.5, 2), (0.0, 3)],\n",
       " 28: [(0.3333333333333333, 0),\n",
       "  (0.3333333333333333, 1),\n",
       "  (0.0, 2),\n",
       "  (0.3333333333333333, 3)],\n",
       " 29: [(0.25, 0), (0.25, 1), (0.25, 2), (0.25, 3)],\n",
       " 30: [(0.0, 0),\n",
       "  (0.3333333333333333, 1),\n",
       "  (0.3333333333333333, 2),\n",
       "  (0.3333333333333333, 3)],\n",
       " 31: [(0.25, 0), (0.25, 1), (0.25, 2), (0.25, 3)],\n",
       " 32: [(0.25, 0), (0.25, 1), (0.25, 2), (0.25, 3)],\n",
       " 33: [(0.3333333333333333, 0),\n",
       "  (0.0, 1),\n",
       "  (0.3333333333333333, 2),\n",
       "  (0.3333333333333333, 3)],\n",
       " 34: [(0.5, 0), (0.0, 1), (0.0, 2), (0.5, 3)],\n",
       " 35: [(0.25, 0), (0.25, 1), (0.25, 2), (0.25, 3)],\n",
       " 36: [(0.0, 0),\n",
       "  (0.3333333333333333, 1),\n",
       "  (0.3333333333333333, 2),\n",
       "  (0.3333333333333333, 3)],\n",
       " 37: [(0.3333333333333333, 0),\n",
       "  (0.3333333333333333, 1),\n",
       "  (0.3333333333333333, 2),\n",
       "  (0.0, 3)],\n",
       " 38: [(0.3333333333333333, 0),\n",
       "  (0.0, 1),\n",
       "  (0.3333333333333333, 2),\n",
       "  (0.3333333333333333, 3)],\n",
       " 39: [(0.25, 0), (0.25, 1), (0.25, 2), (0.25, 3)],\n",
       " 40: [(0.3333333333333333, 0),\n",
       "  (0.3333333333333333, 1),\n",
       "  (0.0, 2),\n",
       "  (0.3333333333333333, 3)],\n",
       " 41: [(0.25, 0), (0.25, 1), (0.25, 2), (0.25, 3)],\n",
       " 42: [(0.25, 0), (0.25, 1), (0.25, 2), (0.25, 3)],\n",
       " 43: [(0.0, 0), (0.5, 1), (0.5, 2), (0.0, 3)],\n",
       " 44: [(0.3333333333333333, 0),\n",
       "  (0.0, 1),\n",
       "  (0.3333333333333333, 2),\n",
       "  (0.3333333333333333, 3)],\n",
       " 45: [(0.3333333333333333, 0),\n",
       "  (0.3333333333333333, 1),\n",
       "  (0.0, 2),\n",
       "  (0.3333333333333333, 3)],\n",
       " 46: [(0.25, 0), (0.25, 1), (0.25, 2), (0.25, 3)],\n",
       " 47: [(0.0, 0),\n",
       "  (0.3333333333333333, 1),\n",
       "  (0.3333333333333333, 2),\n",
       "  (0.3333333333333333, 3)],\n",
       " 48: [(0.3333333333333333, 0),\n",
       "  (0.3333333333333333, 1),\n",
       "  (0.0, 2),\n",
       "  (0.3333333333333333, 3)],\n",
       " 49: [(0.25, 0), (0.25, 1), (0.25, 2), (0.25, 3)],\n",
       " 50: [(0.0, 0), (0.5, 1), (0.5, 2), (0.0, 3)],\n",
       " 51: [(0.5, 0), (0.0, 1), (0.0, 2), (0.5, 3)],\n",
       " 52: [(0.25, 0), (0.25, 1), (0.25, 2), (0.25, 3)],\n",
       " 53: [(0.0, 0), (0.5, 1), (0.0, 2), (0.5, 3)],\n",
       " 54: [(0.25, 0), (0.25, 1), (0.25, 2), (0.25, 3)],\n",
       " 55: [(0.0, 0),\n",
       "  (0.3333333333333333, 1),\n",
       "  (0.3333333333333333, 2),\n",
       "  (0.3333333333333333, 3)],\n",
       " 56: [(0.25, 0), (0.25, 1), (0.25, 2), (0.25, 3)],\n",
       " 57: [(0.3333333333333333, 0),\n",
       "  (0.3333333333333333, 1),\n",
       "  (0.3333333333333333, 2),\n",
       "  (0.0, 3)],\n",
       " 58: [(0.3333333333333333, 0),\n",
       "  (0.3333333333333333, 1),\n",
       "  (0.0, 2),\n",
       "  (0.3333333333333333, 3)],\n",
       " 59: [(0.25, 0), (0.25, 1), (0.25, 2), (0.25, 3)],\n",
       " 60: [(0.0, 0), (0.5, 1), (0.5, 2), (0.0, 3)],\n",
       " 61: [(0.25, 0), (0.25, 1), (0.25, 2), (0.25, 3)],\n",
       " 62: [(0.3333333333333333, 0),\n",
       "  (0.3333333333333333, 1),\n",
       "  (0.3333333333333333, 2),\n",
       "  (0.0, 3)],\n",
       " 63: [(0.25, 0), (0.25, 1), (0.25, 2), (0.25, 3)]}"
      ]
     },
     "execution_count": 43,
     "metadata": {},
     "output_type": "execute_result"
    }
   ],
   "source": [
    "policy"
   ]
  },
  {
   "cell_type": "code",
   "execution_count": null,
   "metadata": {},
   "outputs": [],
   "source": [
    "def greedify(q):\n",
    "    def _policy(env, state):\n",
    "        actions, expected = zip(*q[state].items())\n",
    "        return actions[np.argmax(expected)]\n",
    "\n",
    "    return _policy"
   ]
  },
  {
   "cell_type": "code",
   "execution_count": null,
   "metadata": {},
   "outputs": [],
   "source": [
    "episode = [*run(env, get_greedy_policy(q_fun))]"
   ]
  },
  {
   "cell_type": "markdown",
   "metadata": {},
   "source": [
    "<br>"
   ]
  },
  {
   "cell_type": "markdown",
   "metadata": {},
   "source": [
    "<br>"
   ]
  },
  {
   "cell_type": "markdown",
   "metadata": {},
   "source": [
    "## (original) Bellman equation"
   ]
  },
  {
   "cell_type": "markdown",
   "metadata": {},
   "source": [
    "An MDP:\n",
    "* $q(z\\mid s, a)$ the transition kernel"
   ]
  },
  {
   "cell_type": "markdown",
   "metadata": {},
   "source": [
    "The (original) Bellman operator is\n",
    "$$\n",
    "T(v)\n",
    "\\colon s \\mapsto \\max_{a\\in A_s} \\mathbb{E}_{z\\sim q(z\\mid s, a)} r(s, a, z) + \\gamma v(z)\n",
    "    \\,. $$\n",
    "\n",
    "It can be shown that $T$ is a contraction mapping w.r.t $\\|\\cdot\\|_\\infty$ for $\\gamma \\in (0, 1)$,\n",
    "and thus the fixed point iteration converges to a $v_*$:\n",
    "* repeat $v_{t+1} \\leftarrow T(v_t)$ until convergence in $\\|\\cdot\\|_\\infty$"
   ]
  },
  {
   "cell_type": "markdown",
   "metadata": {},
   "source": [
    "The optimal value function implies an optimal (greedy) poilcy:\n",
    "\n",
    "$$\n",
    "\\pi(s) \\in \\arg\\max_{a\\in A_s}\n",
    "    \\mathbb{E}_{z\\sim q(z\\mid s, a)} r(s, a, z) + \\gamma v^*(z)\n",
    "    \\,. $$"
   ]
  },
  {
   "cell_type": "code",
   "execution_count": null,
   "metadata": {},
   "outputs": [],
   "source": [
    "def expected_value(kernel, value, policy=None, gamma=1.0):\n",
    "    return max(expected_value(kernel[action], value, gamma)\n",
    "               for action, prob in policy.items())"
   ]
  },
  {
   "cell_type": "code",
   "execution_count": null,
   "metadata": {},
   "outputs": [],
   "source": [
    "def policy_evaluation(env, policy, gamma=1.0):\n",
    "    value, delta = {state: 0. for state in env.P}, float(\"+inf\")\n",
    "    while delta > 1e-8:\n",
    "        # compute the operator\n",
    "        new = {state: expected_value(kernel, value, policy[state], gamma)\n",
    "               for state, kernel in env.P.items()}\n",
    "        \n",
    "        delta = max(abs(a - b) for a, b in zip(value.values(), new.values()))\n",
    "        value = new\n",
    "\n",
    "    return value"
   ]
  },
  {
   "cell_type": "markdown",
   "metadata": {},
   "source": [
    "Let's evaluate a random exploration policy:"
   ]
  },
  {
   "cell_type": "code",
   "execution_count": null,
   "metadata": {},
   "outputs": [],
   "source": [
    "policy = {\n",
    "    state: {\n",
    "        action: 1. / env.nA for action in kernel\n",
    "    } for state, kernel in env.P.items()\n",
    "}\n",
    "\n",
    "value = policy_evaluation(env, policy, gamma=0.99)"
   ]
  },
  {
   "cell_type": "code",
   "execution_count": null,
   "metadata": {},
   "outputs": [],
   "source": [
    "states, values = zip(*value.items())\n",
    "values = np.array(values).reshape(8, 8)"
   ]
  },
  {
   "cell_type": "code",
   "execution_count": null,
   "metadata": {},
   "outputs": [],
   "source": [
    "values.round(3)"
   ]
  },
  {
   "cell_type": "code",
   "execution_count": null,
   "metadata": {},
   "outputs": [],
   "source": [
    "plt.imshow(values, cmap=plt.cm.PuBu)"
   ]
  },
  {
   "cell_type": "markdown",
   "metadata": {},
   "source": [
    "Compute the $q$-function implied by the converged value function:\n",
    "$$\n",
    "Q(s, a)\n",
    "    = \\mathbb{E}_{z\\sim q(z\\mid s, a)} r(s, a, s') + \\gamma v^*(z)\n",
    "    \\,. $$"
   ]
  },
  {
   "cell_type": "code",
   "execution_count": 42,
   "metadata": {},
   "outputs": [
    {
     "ename": "NameError",
     "evalue": "name 'expected_value' is not defined",
     "output_type": "error",
     "traceback": [
      "\u001b[0;31m---------------------------------------------------------------------------\u001b[0m",
      "\u001b[0;31mNameError\u001b[0m                                 Traceback (most recent call last)",
      "\u001b[0;32m<ipython-input-42-5e3b43e12a4f>\u001b[0m in \u001b[0;36m<module>\u001b[0;34m\u001b[0m\n\u001b[1;32m      2\u001b[0m     state: {\n\u001b[1;32m      3\u001b[0m         \u001b[0ma\u001b[0m\u001b[0;34m:\u001b[0m \u001b[0mexpected_value\u001b[0m\u001b[0;34m(\u001b[0m\u001b[0mk\u001b[0m\u001b[0;34m,\u001b[0m \u001b[0mvalue\u001b[0m\u001b[0;34m,\u001b[0m \u001b[0;36m0.5\u001b[0m\u001b[0;34m)\u001b[0m \u001b[0;32mfor\u001b[0m \u001b[0ma\u001b[0m\u001b[0;34m,\u001b[0m \u001b[0mk\u001b[0m \u001b[0;32min\u001b[0m \u001b[0mkernel\u001b[0m\u001b[0;34m.\u001b[0m\u001b[0mitems\u001b[0m\u001b[0;34m(\u001b[0m\u001b[0;34m)\u001b[0m\u001b[0;34m\u001b[0m\u001b[0;34m\u001b[0m\u001b[0m\n\u001b[0;32m----> 4\u001b[0;31m     } for state, kernel in env.P.items()\n\u001b[0m\u001b[1;32m      5\u001b[0m }\n",
      "\u001b[0;32m<ipython-input-42-5e3b43e12a4f>\u001b[0m in \u001b[0;36m<dictcomp>\u001b[0;34m(.0)\u001b[0m\n\u001b[1;32m      2\u001b[0m     state: {\n\u001b[1;32m      3\u001b[0m         \u001b[0ma\u001b[0m\u001b[0;34m:\u001b[0m \u001b[0mexpected_value\u001b[0m\u001b[0;34m(\u001b[0m\u001b[0mk\u001b[0m\u001b[0;34m,\u001b[0m \u001b[0mvalue\u001b[0m\u001b[0;34m,\u001b[0m \u001b[0;36m0.5\u001b[0m\u001b[0;34m)\u001b[0m \u001b[0;32mfor\u001b[0m \u001b[0ma\u001b[0m\u001b[0;34m,\u001b[0m \u001b[0mk\u001b[0m \u001b[0;32min\u001b[0m \u001b[0mkernel\u001b[0m\u001b[0;34m.\u001b[0m\u001b[0mitems\u001b[0m\u001b[0;34m(\u001b[0m\u001b[0;34m)\u001b[0m\u001b[0;34m\u001b[0m\u001b[0;34m\u001b[0m\u001b[0m\n\u001b[0;32m----> 4\u001b[0;31m     } for state, kernel in env.P.items()\n\u001b[0m\u001b[1;32m      5\u001b[0m }\n",
      "\u001b[0;32m<ipython-input-42-5e3b43e12a4f>\u001b[0m in \u001b[0;36m<dictcomp>\u001b[0;34m(.0)\u001b[0m\n\u001b[1;32m      1\u001b[0m q_fun = {\n\u001b[1;32m      2\u001b[0m     state: {\n\u001b[0;32m----> 3\u001b[0;31m         \u001b[0ma\u001b[0m\u001b[0;34m:\u001b[0m \u001b[0mexpected_value\u001b[0m\u001b[0;34m(\u001b[0m\u001b[0mk\u001b[0m\u001b[0;34m,\u001b[0m \u001b[0mvalue\u001b[0m\u001b[0;34m,\u001b[0m \u001b[0;36m0.5\u001b[0m\u001b[0;34m)\u001b[0m \u001b[0;32mfor\u001b[0m \u001b[0ma\u001b[0m\u001b[0;34m,\u001b[0m \u001b[0mk\u001b[0m \u001b[0;32min\u001b[0m \u001b[0mkernel\u001b[0m\u001b[0;34m.\u001b[0m\u001b[0mitems\u001b[0m\u001b[0;34m(\u001b[0m\u001b[0;34m)\u001b[0m\u001b[0;34m\u001b[0m\u001b[0;34m\u001b[0m\u001b[0m\n\u001b[0m\u001b[1;32m      4\u001b[0m     } for state, kernel in env.P.items()\n\u001b[1;32m      5\u001b[0m }\n",
      "\u001b[0;31mNameError\u001b[0m: name 'expected_value' is not defined"
     ]
    }
   ],
   "source": [
    "q_fun = {\n",
    "    state: {\n",
    "        a: expected_value(k, value, 0.5) for a, k in kernel.items()\n",
    "    } for state, kernel in env.P.items()\n",
    "}"
   ]
  },
  {
   "cell_type": "markdown",
   "metadata": {},
   "source": [
    "Thus the stationary $v$-function induces the following policy (consistent with it):\n",
    "$$\n",
    "\\pi(s)\n",
    "    = \\delta_{a_s}\n",
    "    \\,, \\text{ for } a_s = \\arg \\max_{a \\in A_s} Q(s, a) \n",
    "    \\,. $$"
   ]
  },
  {
   "cell_type": "code",
   "execution_count": 40,
   "metadata": {},
   "outputs": [],
   "source": [
    "def get_greedy_policy(q):\n",
    "    def _policy(env, state):\n",
    "        actions, expected = zip(*q[state].items())\n",
    "        return actions[np.argmax(expected)]\n",
    "\n",
    "    return _policy"
   ]
  },
  {
   "cell_type": "code",
   "execution_count": 41,
   "metadata": {},
   "outputs": [
    {
     "name": "stdout",
     "output_type": "stream",
     "text": [
      "  (Down)\n",
      "SFFFFFFF\n",
      "FFFFFFFF\n",
      "FFFHFFFF\n",
      "FFFFFHFF\n",
      "FFFHFFFF\n",
      "FHHFFFHF\n",
      "FHFFHFHF\n",
      "FFFHFFF\u001b[41mG\u001b[0m\n"
     ]
    }
   ],
   "source": [
    "episode = [*run(env, get_greedy_policy(q_fun))]"
   ]
  },
  {
   "cell_type": "markdown",
   "metadata": {},
   "source": [
    "<br>"
   ]
  },
  {
   "cell_type": "markdown",
   "metadata": {},
   "source": [
    "## Policy improvement and Policy Iteration"
   ]
  },
  {
   "cell_type": "code",
   "execution_count": null,
   "metadata": {},
   "outputs": [],
   "source": []
  },
  {
   "cell_type": "code",
   "execution_count": null,
   "metadata": {
    "scrolled": true
   },
   "outputs": [],
   "source": [
    "assert False"
   ]
  },
  {
   "cell_type": "code",
   "execution_count": null,
   "metadata": {},
   "outputs": [],
   "source": [
    "from matplotlib.collections import LineCollection"
   ]
  },
  {
   "cell_type": "code",
   "execution_count": null,
   "metadata": {},
   "outputs": [],
   "source": [
    "s, *_ = zip(*episode)\n",
    "\n",
    "segs = np.c_[np.unravel_index(s, (8, 8))]"
   ]
  },
  {
   "cell_type": "code",
   "execution_count": null,
   "metadata": {
    "scrolled": true
   },
   "outputs": [],
   "source": [
    "assert False"
   ]
  },
  {
   "cell_type": "markdown",
   "metadata": {},
   "source": [
    "<br>"
   ]
  },
  {
   "cell_type": "code",
   "execution_count": null,
   "metadata": {},
   "outputs": [],
   "source": [
    "# !pip install gym"
   ]
  },
  {
   "cell_type": "code",
   "execution_count": null,
   "metadata": {},
   "outputs": [],
   "source": [
    "import numpy as np\n",
    "%matplotlib inline\n",
    "import matplotlib.pyplot as plt"
   ]
  },
  {
   "cell_type": "code",
   "execution_count": null,
   "metadata": {},
   "outputs": [],
   "source": [
    "import torch\n",
    "import torch.nn.functional as F"
   ]
  },
  {
   "cell_type": "code",
   "execution_count": null,
   "metadata": {},
   "outputs": [],
   "source": [
    "import gym"
   ]
  },
  {
   "cell_type": "code",
   "execution_count": null,
   "metadata": {},
   "outputs": [],
   "source": [
    "from gym.envs.classic_control import MountainCarEnv"
   ]
  },
  {
   "cell_type": "code",
   "execution_count": null,
   "metadata": {},
   "outputs": [],
   "source": [
    "from gym import spaces\n",
    "\n",
    "class ModifiedMountainCarEnv(MountainCarEnv):\n",
    "    def __init__(self, goal_velocity = 0):\n",
    "        self.min_position = -2.5\n",
    "        self.max_position = 2.5\n",
    "        self.max_speed = 0.07\n",
    "        self.goal_position = 2.0\n",
    "        self.goal_velocity = goal_velocity\n",
    "\n",
    "        self.force = 0.001\n",
    "        self.gravity = 0.0025\n",
    "\n",
    "        self.low = np.array([self.min_position, -self.max_speed])\n",
    "        self.high = np.array([self.max_position, self.max_speed])\n",
    "\n",
    "        self.viewer = None\n",
    "\n",
    "        self.action_space = spaces.Discrete(3)\n",
    "        self.observation_space = spaces.Box(self.low, self.high, dtype=np.float32)\n",
    "\n",
    "        self.seed()"
   ]
  },
  {
   "cell_type": "code",
   "execution_count": null,
   "metadata": {},
   "outputs": [],
   "source": [
    "env = ModifiedMountainCarEnv()"
   ]
  },
  {
   "cell_type": "code",
   "execution_count": null,
   "metadata": {},
   "outputs": [],
   "source": [
    "def run(env, agent, fps=15):\n",
    "    state, terminated = env.reset(), False\n",
    "    history = []\n",
    "    while not terminated:\n",
    "        state, reward, terminated, info = env.step(agent(state))\n",
    "        history.append((state, reward))\n",
    "\n",
    "    return history"
   ]
  },
  {
   "cell_type": "code",
   "execution_count": null,
   "metadata": {},
   "outputs": [],
   "source": [
    "class BaseAgent(object):\n",
    "    def __init__(self, env):\n",
    "        self.env = env\n",
    "    \n",
    "    def reset(self):\n",
    "        pass\n",
    "    \n",
    "    def update(self, state, action, reward, next_state, terminated=False):\n",
    "        pass\n",
    "\n",
    "    def __call__(self, state=None):\n",
    "        return env.action_space.sample()"
   ]
  },
  {
   "cell_type": "code",
   "execution_count": null,
   "metadata": {},
   "outputs": [],
   "source": [
    "space = env.observation_space"
   ]
  },
  {
   "cell_type": "code",
   "execution_count": null,
   "metadata": {},
   "outputs": [],
   "source": [
    "from gym.spaces import Space"
   ]
  },
  {
   "cell_type": "code",
   "execution_count": null,
   "metadata": {},
   "outputs": [],
   "source": [
    "shape = (51, 71)\n",
    "state = 0, 0"
   ]
  },
  {
   "cell_type": "code",
   "execution_count": null,
   "metadata": {},
   "outputs": [],
   "source": [
    "unit = (state - space.low) / (space.high - space.low)"
   ]
  },
  {
   "cell_type": "code",
   "execution_count": null,
   "metadata": {},
   "outputs": [],
   "source": []
  },
  {
   "cell_type": "code",
   "execution_count": null,
   "metadata": {},
   "outputs": [],
   "source": [
    "class Discretizer(object):\n",
    "    def __init__(self, space, shape):\n",
    "        assert isinstance(space, Box) and len(space.shape) == 1\n",
    "        assert space.is_bounded\n",
    "\n",
    "        if not isinstance(n_states, (list, tuple)):\n",
    "            shape = space.shape[0] * [shape]\n",
    "\n",
    "        assert shape == space.shape[0]\n",
    "        self.space, self.shape = space, shape\n",
    "\n",
    "    def to_ix(self, state, flatten=False):\n",
    "        unit = (state - space.low) / (space.high - space.low)\n",
    "        ix = (unit * shape + 0.5).astype(int)\n",
    "\n",
    "        if flatten:\n",
    "            return np.unravel_index(ix, shape=self.shape)\n",
    "        return ix\n",
    "\n",
    "    def from_ix(self, *index):\n",
    "        return np.array(index) * (space.high - space.low) + space.low"
   ]
  },
  {
   "cell_type": "code",
   "execution_count": null,
   "metadata": {},
   "outputs": [],
   "source": [
    "def rescale(obs, env):\n",
    "    space = env.observation_space\n",
    "    return (obs - space.low) / (space.high - space.low)\n",
    "\n",
    "class TabularQLearner(BaseAgent):\n",
    "    def __init__(self, env, n_states=51):\n",
    "        super().__init__(env)\n",
    "        self.n_states, self.n_actions = n_states, env.action_space.n\n",
    "\n",
    "        self.reset()\n",
    "    \n",
    "    def reset(self):\n",
    "        self.q_table = torch.zeros(self.n_states, self.n_states, n_actions)\n",
    "\n",
    "    def __call__(self, state=None):\n",
    "        \n",
    "        return env.action_space.sample()"
   ]
  },
  {
   "cell_type": "code",
   "execution_count": null,
   "metadata": {},
   "outputs": [],
   "source": []
  },
  {
   "cell_type": "code",
   "execution_count": 63,
   "metadata": {},
   "outputs": [],
   "source": [
    "value = np.zeros((env.nS, env.nA))"
   ]
  },
  {
   "cell_type": "code",
   "execution_count": 64,
   "metadata": {},
   "outputs": [],
   "source": [
    "policy = np.ones((env.nS, env.nA))/env.nA"
   ]
  },
  {
   "cell_type": "code",
   "execution_count": 65,
   "metadata": {},
   "outputs": [],
   "source": [
    "state = 0"
   ]
  },
  {
   "cell_type": "code",
   "execution_count": 66,
   "metadata": {},
   "outputs": [
    {
     "data": {
      "text/plain": [
       "{0: {0: [(0.3333333333333333, 0, 0.0, False),\n",
       "   (0.3333333333333333, 0, 0.0, False),\n",
       "   (0.3333333333333333, 8, 0.0, False)],\n",
       "  1: [(0.3333333333333333, 0, 0.0, False),\n",
       "   (0.3333333333333333, 8, 0.0, False),\n",
       "   (0.3333333333333333, 1, 0.0, False)],\n",
       "  2: [(0.3333333333333333, 8, 0.0, False),\n",
       "   (0.3333333333333333, 1, 0.0, False),\n",
       "   (0.3333333333333333, 0, 0.0, False)],\n",
       "  3: [(0.3333333333333333, 1, 0.0, False),\n",
       "   (0.3333333333333333, 0, 0.0, False),\n",
       "   (0.3333333333333333, 0, 0.0, False)]},\n",
       " 1: {0: [(0.3333333333333333, 1, 0.0, False),\n",
       "   (0.3333333333333333, 0, 0.0, False),\n",
       "   (0.3333333333333333, 9, 0.0, False)],\n",
       "  1: [(0.3333333333333333, 0, 0.0, False),\n",
       "   (0.3333333333333333, 9, 0.0, False),\n",
       "   (0.3333333333333333, 2, 0.0, False)],\n",
       "  2: [(0.3333333333333333, 9, 0.0, False),\n",
       "   (0.3333333333333333, 2, 0.0, False),\n",
       "   (0.3333333333333333, 1, 0.0, False)],\n",
       "  3: [(0.3333333333333333, 2, 0.0, False),\n",
       "   (0.3333333333333333, 1, 0.0, False),\n",
       "   (0.3333333333333333, 0, 0.0, False)]},\n",
       " 2: {0: [(0.3333333333333333, 2, 0.0, False),\n",
       "   (0.3333333333333333, 1, 0.0, False),\n",
       "   (0.3333333333333333, 10, 0.0, False)],\n",
       "  1: [(0.3333333333333333, 1, 0.0, False),\n",
       "   (0.3333333333333333, 10, 0.0, False),\n",
       "   (0.3333333333333333, 3, 0.0, False)],\n",
       "  2: [(0.3333333333333333, 10, 0.0, False),\n",
       "   (0.3333333333333333, 3, 0.0, False),\n",
       "   (0.3333333333333333, 2, 0.0, False)],\n",
       "  3: [(0.3333333333333333, 3, 0.0, False),\n",
       "   (0.3333333333333333, 2, 0.0, False),\n",
       "   (0.3333333333333333, 1, 0.0, False)]},\n",
       " 3: {0: [(0.3333333333333333, 3, 0.0, False),\n",
       "   (0.3333333333333333, 2, 0.0, False),\n",
       "   (0.3333333333333333, 11, 0.0, False)],\n",
       "  1: [(0.3333333333333333, 2, 0.0, False),\n",
       "   (0.3333333333333333, 11, 0.0, False),\n",
       "   (0.3333333333333333, 4, 0.0, False)],\n",
       "  2: [(0.3333333333333333, 11, 0.0, False),\n",
       "   (0.3333333333333333, 4, 0.0, False),\n",
       "   (0.3333333333333333, 3, 0.0, False)],\n",
       "  3: [(0.3333333333333333, 4, 0.0, False),\n",
       "   (0.3333333333333333, 3, 0.0, False),\n",
       "   (0.3333333333333333, 2, 0.0, False)]},\n",
       " 4: {0: [(0.3333333333333333, 4, 0.0, False),\n",
       "   (0.3333333333333333, 3, 0.0, False),\n",
       "   (0.3333333333333333, 12, 0.0, False)],\n",
       "  1: [(0.3333333333333333, 3, 0.0, False),\n",
       "   (0.3333333333333333, 12, 0.0, False),\n",
       "   (0.3333333333333333, 5, 0.0, False)],\n",
       "  2: [(0.3333333333333333, 12, 0.0, False),\n",
       "   (0.3333333333333333, 5, 0.0, False),\n",
       "   (0.3333333333333333, 4, 0.0, False)],\n",
       "  3: [(0.3333333333333333, 5, 0.0, False),\n",
       "   (0.3333333333333333, 4, 0.0, False),\n",
       "   (0.3333333333333333, 3, 0.0, False)]},\n",
       " 5: {0: [(0.3333333333333333, 5, 0.0, False),\n",
       "   (0.3333333333333333, 4, 0.0, False),\n",
       "   (0.3333333333333333, 13, 0.0, False)],\n",
       "  1: [(0.3333333333333333, 4, 0.0, False),\n",
       "   (0.3333333333333333, 13, 0.0, False),\n",
       "   (0.3333333333333333, 6, 0.0, False)],\n",
       "  2: [(0.3333333333333333, 13, 0.0, False),\n",
       "   (0.3333333333333333, 6, 0.0, False),\n",
       "   (0.3333333333333333, 5, 0.0, False)],\n",
       "  3: [(0.3333333333333333, 6, 0.0, False),\n",
       "   (0.3333333333333333, 5, 0.0, False),\n",
       "   (0.3333333333333333, 4, 0.0, False)]},\n",
       " 6: {0: [(0.3333333333333333, 6, 0.0, False),\n",
       "   (0.3333333333333333, 5, 0.0, False),\n",
       "   (0.3333333333333333, 14, 0.0, False)],\n",
       "  1: [(0.3333333333333333, 5, 0.0, False),\n",
       "   (0.3333333333333333, 14, 0.0, False),\n",
       "   (0.3333333333333333, 7, 0.0, False)],\n",
       "  2: [(0.3333333333333333, 14, 0.0, False),\n",
       "   (0.3333333333333333, 7, 0.0, False),\n",
       "   (0.3333333333333333, 6, 0.0, False)],\n",
       "  3: [(0.3333333333333333, 7, 0.0, False),\n",
       "   (0.3333333333333333, 6, 0.0, False),\n",
       "   (0.3333333333333333, 5, 0.0, False)]},\n",
       " 7: {0: [(0.3333333333333333, 7, 0.0, False),\n",
       "   (0.3333333333333333, 6, 0.0, False),\n",
       "   (0.3333333333333333, 15, 0.0, False)],\n",
       "  1: [(0.3333333333333333, 6, 0.0, False),\n",
       "   (0.3333333333333333, 15, 0.0, False),\n",
       "   (0.3333333333333333, 7, 0.0, False)],\n",
       "  2: [(0.3333333333333333, 15, 0.0, False),\n",
       "   (0.3333333333333333, 7, 0.0, False),\n",
       "   (0.3333333333333333, 7, 0.0, False)],\n",
       "  3: [(0.3333333333333333, 7, 0.0, False),\n",
       "   (0.3333333333333333, 7, 0.0, False),\n",
       "   (0.3333333333333333, 6, 0.0, False)]},\n",
       " 8: {0: [(0.3333333333333333, 0, 0.0, False),\n",
       "   (0.3333333333333333, 8, 0.0, False),\n",
       "   (0.3333333333333333, 16, 0.0, False)],\n",
       "  1: [(0.3333333333333333, 8, 0.0, False),\n",
       "   (0.3333333333333333, 16, 0.0, False),\n",
       "   (0.3333333333333333, 9, 0.0, False)],\n",
       "  2: [(0.3333333333333333, 16, 0.0, False),\n",
       "   (0.3333333333333333, 9, 0.0, False),\n",
       "   (0.3333333333333333, 0, 0.0, False)],\n",
       "  3: [(0.3333333333333333, 9, 0.0, False),\n",
       "   (0.3333333333333333, 0, 0.0, False),\n",
       "   (0.3333333333333333, 8, 0.0, False)]},\n",
       " 9: {0: [(0.3333333333333333, 1, 0.0, False),\n",
       "   (0.3333333333333333, 8, 0.0, False),\n",
       "   (0.3333333333333333, 17, 0.0, False)],\n",
       "  1: [(0.3333333333333333, 8, 0.0, False),\n",
       "   (0.3333333333333333, 17, 0.0, False),\n",
       "   (0.3333333333333333, 10, 0.0, False)],\n",
       "  2: [(0.3333333333333333, 17, 0.0, False),\n",
       "   (0.3333333333333333, 10, 0.0, False),\n",
       "   (0.3333333333333333, 1, 0.0, False)],\n",
       "  3: [(0.3333333333333333, 10, 0.0, False),\n",
       "   (0.3333333333333333, 1, 0.0, False),\n",
       "   (0.3333333333333333, 8, 0.0, False)]},\n",
       " 10: {0: [(0.3333333333333333, 2, 0.0, False),\n",
       "   (0.3333333333333333, 9, 0.0, False),\n",
       "   (0.3333333333333333, 18, 0.0, False)],\n",
       "  1: [(0.3333333333333333, 9, 0.0, False),\n",
       "   (0.3333333333333333, 18, 0.0, False),\n",
       "   (0.3333333333333333, 11, 0.0, False)],\n",
       "  2: [(0.3333333333333333, 18, 0.0, False),\n",
       "   (0.3333333333333333, 11, 0.0, False),\n",
       "   (0.3333333333333333, 2, 0.0, False)],\n",
       "  3: [(0.3333333333333333, 11, 0.0, False),\n",
       "   (0.3333333333333333, 2, 0.0, False),\n",
       "   (0.3333333333333333, 9, 0.0, False)]},\n",
       " 11: {0: [(0.3333333333333333, 3, 0.0, False),\n",
       "   (0.3333333333333333, 10, 0.0, False),\n",
       "   (0.3333333333333333, 19, 0.0, True)],\n",
       "  1: [(0.3333333333333333, 10, 0.0, False),\n",
       "   (0.3333333333333333, 19, 0.0, True),\n",
       "   (0.3333333333333333, 12, 0.0, False)],\n",
       "  2: [(0.3333333333333333, 19, 0.0, True),\n",
       "   (0.3333333333333333, 12, 0.0, False),\n",
       "   (0.3333333333333333, 3, 0.0, False)],\n",
       "  3: [(0.3333333333333333, 12, 0.0, False),\n",
       "   (0.3333333333333333, 3, 0.0, False),\n",
       "   (0.3333333333333333, 10, 0.0, False)]},\n",
       " 12: {0: [(0.3333333333333333, 4, 0.0, False),\n",
       "   (0.3333333333333333, 11, 0.0, False),\n",
       "   (0.3333333333333333, 20, 0.0, False)],\n",
       "  1: [(0.3333333333333333, 11, 0.0, False),\n",
       "   (0.3333333333333333, 20, 0.0, False),\n",
       "   (0.3333333333333333, 13, 0.0, False)],\n",
       "  2: [(0.3333333333333333, 20, 0.0, False),\n",
       "   (0.3333333333333333, 13, 0.0, False),\n",
       "   (0.3333333333333333, 4, 0.0, False)],\n",
       "  3: [(0.3333333333333333, 13, 0.0, False),\n",
       "   (0.3333333333333333, 4, 0.0, False),\n",
       "   (0.3333333333333333, 11, 0.0, False)]},\n",
       " 13: {0: [(0.3333333333333333, 5, 0.0, False),\n",
       "   (0.3333333333333333, 12, 0.0, False),\n",
       "   (0.3333333333333333, 21, 0.0, False)],\n",
       "  1: [(0.3333333333333333, 12, 0.0, False),\n",
       "   (0.3333333333333333, 21, 0.0, False),\n",
       "   (0.3333333333333333, 14, 0.0, False)],\n",
       "  2: [(0.3333333333333333, 21, 0.0, False),\n",
       "   (0.3333333333333333, 14, 0.0, False),\n",
       "   (0.3333333333333333, 5, 0.0, False)],\n",
       "  3: [(0.3333333333333333, 14, 0.0, False),\n",
       "   (0.3333333333333333, 5, 0.0, False),\n",
       "   (0.3333333333333333, 12, 0.0, False)]},\n",
       " 14: {0: [(0.3333333333333333, 6, 0.0, False),\n",
       "   (0.3333333333333333, 13, 0.0, False),\n",
       "   (0.3333333333333333, 22, 0.0, False)],\n",
       "  1: [(0.3333333333333333, 13, 0.0, False),\n",
       "   (0.3333333333333333, 22, 0.0, False),\n",
       "   (0.3333333333333333, 15, 0.0, False)],\n",
       "  2: [(0.3333333333333333, 22, 0.0, False),\n",
       "   (0.3333333333333333, 15, 0.0, False),\n",
       "   (0.3333333333333333, 6, 0.0, False)],\n",
       "  3: [(0.3333333333333333, 15, 0.0, False),\n",
       "   (0.3333333333333333, 6, 0.0, False),\n",
       "   (0.3333333333333333, 13, 0.0, False)]},\n",
       " 15: {0: [(0.3333333333333333, 7, 0.0, False),\n",
       "   (0.3333333333333333, 14, 0.0, False),\n",
       "   (0.3333333333333333, 23, 0.0, False)],\n",
       "  1: [(0.3333333333333333, 14, 0.0, False),\n",
       "   (0.3333333333333333, 23, 0.0, False),\n",
       "   (0.3333333333333333, 15, 0.0, False)],\n",
       "  2: [(0.3333333333333333, 23, 0.0, False),\n",
       "   (0.3333333333333333, 15, 0.0, False),\n",
       "   (0.3333333333333333, 7, 0.0, False)],\n",
       "  3: [(0.3333333333333333, 15, 0.0, False),\n",
       "   (0.3333333333333333, 7, 0.0, False),\n",
       "   (0.3333333333333333, 14, 0.0, False)]},\n",
       " 16: {0: [(0.3333333333333333, 8, 0.0, False),\n",
       "   (0.3333333333333333, 16, 0.0, False),\n",
       "   (0.3333333333333333, 24, 0.0, False)],\n",
       "  1: [(0.3333333333333333, 16, 0.0, False),\n",
       "   (0.3333333333333333, 24, 0.0, False),\n",
       "   (0.3333333333333333, 17, 0.0, False)],\n",
       "  2: [(0.3333333333333333, 24, 0.0, False),\n",
       "   (0.3333333333333333, 17, 0.0, False),\n",
       "   (0.3333333333333333, 8, 0.0, False)],\n",
       "  3: [(0.3333333333333333, 17, 0.0, False),\n",
       "   (0.3333333333333333, 8, 0.0, False),\n",
       "   (0.3333333333333333, 16, 0.0, False)]},\n",
       " 17: {0: [(0.3333333333333333, 9, 0.0, False),\n",
       "   (0.3333333333333333, 16, 0.0, False),\n",
       "   (0.3333333333333333, 25, 0.0, False)],\n",
       "  1: [(0.3333333333333333, 16, 0.0, False),\n",
       "   (0.3333333333333333, 25, 0.0, False),\n",
       "   (0.3333333333333333, 18, 0.0, False)],\n",
       "  2: [(0.3333333333333333, 25, 0.0, False),\n",
       "   (0.3333333333333333, 18, 0.0, False),\n",
       "   (0.3333333333333333, 9, 0.0, False)],\n",
       "  3: [(0.3333333333333333, 18, 0.0, False),\n",
       "   (0.3333333333333333, 9, 0.0, False),\n",
       "   (0.3333333333333333, 16, 0.0, False)]},\n",
       " 18: {0: [(0.3333333333333333, 10, 0.0, False),\n",
       "   (0.3333333333333333, 17, 0.0, False),\n",
       "   (0.3333333333333333, 26, 0.0, False)],\n",
       "  1: [(0.3333333333333333, 17, 0.0, False),\n",
       "   (0.3333333333333333, 26, 0.0, False),\n",
       "   (0.3333333333333333, 19, 0.0, True)],\n",
       "  2: [(0.3333333333333333, 26, 0.0, False),\n",
       "   (0.3333333333333333, 19, 0.0, True),\n",
       "   (0.3333333333333333, 10, 0.0, False)],\n",
       "  3: [(0.3333333333333333, 19, 0.0, True),\n",
       "   (0.3333333333333333, 10, 0.0, False),\n",
       "   (0.3333333333333333, 17, 0.0, False)]},\n",
       " 19: {0: [(1.0, 19, 0, True)],\n",
       "  1: [(1.0, 19, 0, True)],\n",
       "  2: [(1.0, 19, 0, True)],\n",
       "  3: [(1.0, 19, 0, True)]},\n",
       " 20: {0: [(0.3333333333333333, 12, 0.0, False),\n",
       "   (0.3333333333333333, 19, 0.0, True),\n",
       "   (0.3333333333333333, 28, 0.0, False)],\n",
       "  1: [(0.3333333333333333, 19, 0.0, True),\n",
       "   (0.3333333333333333, 28, 0.0, False),\n",
       "   (0.3333333333333333, 21, 0.0, False)],\n",
       "  2: [(0.3333333333333333, 28, 0.0, False),\n",
       "   (0.3333333333333333, 21, 0.0, False),\n",
       "   (0.3333333333333333, 12, 0.0, False)],\n",
       "  3: [(0.3333333333333333, 21, 0.0, False),\n",
       "   (0.3333333333333333, 12, 0.0, False),\n",
       "   (0.3333333333333333, 19, 0.0, True)]},\n",
       " 21: {0: [(0.3333333333333333, 13, 0.0, False),\n",
       "   (0.3333333333333333, 20, 0.0, False),\n",
       "   (0.3333333333333333, 29, 0.0, True)],\n",
       "  1: [(0.3333333333333333, 20, 0.0, False),\n",
       "   (0.3333333333333333, 29, 0.0, True),\n",
       "   (0.3333333333333333, 22, 0.0, False)],\n",
       "  2: [(0.3333333333333333, 29, 0.0, True),\n",
       "   (0.3333333333333333, 22, 0.0, False),\n",
       "   (0.3333333333333333, 13, 0.0, False)],\n",
       "  3: [(0.3333333333333333, 22, 0.0, False),\n",
       "   (0.3333333333333333, 13, 0.0, False),\n",
       "   (0.3333333333333333, 20, 0.0, False)]},\n",
       " 22: {0: [(0.3333333333333333, 14, 0.0, False),\n",
       "   (0.3333333333333333, 21, 0.0, False),\n",
       "   (0.3333333333333333, 30, 0.0, False)],\n",
       "  1: [(0.3333333333333333, 21, 0.0, False),\n",
       "   (0.3333333333333333, 30, 0.0, False),\n",
       "   (0.3333333333333333, 23, 0.0, False)],\n",
       "  2: [(0.3333333333333333, 30, 0.0, False),\n",
       "   (0.3333333333333333, 23, 0.0, False),\n",
       "   (0.3333333333333333, 14, 0.0, False)],\n",
       "  3: [(0.3333333333333333, 23, 0.0, False),\n",
       "   (0.3333333333333333, 14, 0.0, False),\n",
       "   (0.3333333333333333, 21, 0.0, False)]},\n",
       " 23: {0: [(0.3333333333333333, 15, 0.0, False),\n",
       "   (0.3333333333333333, 22, 0.0, False),\n",
       "   (0.3333333333333333, 31, 0.0, False)],\n",
       "  1: [(0.3333333333333333, 22, 0.0, False),\n",
       "   (0.3333333333333333, 31, 0.0, False),\n",
       "   (0.3333333333333333, 23, 0.0, False)],\n",
       "  2: [(0.3333333333333333, 31, 0.0, False),\n",
       "   (0.3333333333333333, 23, 0.0, False),\n",
       "   (0.3333333333333333, 15, 0.0, False)],\n",
       "  3: [(0.3333333333333333, 23, 0.0, False),\n",
       "   (0.3333333333333333, 15, 0.0, False),\n",
       "   (0.3333333333333333, 22, 0.0, False)]},\n",
       " 24: {0: [(0.3333333333333333, 16, 0.0, False),\n",
       "   (0.3333333333333333, 24, 0.0, False),\n",
       "   (0.3333333333333333, 32, 0.0, False)],\n",
       "  1: [(0.3333333333333333, 24, 0.0, False),\n",
       "   (0.3333333333333333, 32, 0.0, False),\n",
       "   (0.3333333333333333, 25, 0.0, False)],\n",
       "  2: [(0.3333333333333333, 32, 0.0, False),\n",
       "   (0.3333333333333333, 25, 0.0, False),\n",
       "   (0.3333333333333333, 16, 0.0, False)],\n",
       "  3: [(0.3333333333333333, 25, 0.0, False),\n",
       "   (0.3333333333333333, 16, 0.0, False),\n",
       "   (0.3333333333333333, 24, 0.0, False)]},\n",
       " 25: {0: [(0.3333333333333333, 17, 0.0, False),\n",
       "   (0.3333333333333333, 24, 0.0, False),\n",
       "   (0.3333333333333333, 33, 0.0, False)],\n",
       "  1: [(0.3333333333333333, 24, 0.0, False),\n",
       "   (0.3333333333333333, 33, 0.0, False),\n",
       "   (0.3333333333333333, 26, 0.0, False)],\n",
       "  2: [(0.3333333333333333, 33, 0.0, False),\n",
       "   (0.3333333333333333, 26, 0.0, False),\n",
       "   (0.3333333333333333, 17, 0.0, False)],\n",
       "  3: [(0.3333333333333333, 26, 0.0, False),\n",
       "   (0.3333333333333333, 17, 0.0, False),\n",
       "   (0.3333333333333333, 24, 0.0, False)]},\n",
       " 26: {0: [(0.3333333333333333, 18, 0.0, False),\n",
       "   (0.3333333333333333, 25, 0.0, False),\n",
       "   (0.3333333333333333, 34, 0.0, False)],\n",
       "  1: [(0.3333333333333333, 25, 0.0, False),\n",
       "   (0.3333333333333333, 34, 0.0, False),\n",
       "   (0.3333333333333333, 27, 0.0, False)],\n",
       "  2: [(0.3333333333333333, 34, 0.0, False),\n",
       "   (0.3333333333333333, 27, 0.0, False),\n",
       "   (0.3333333333333333, 18, 0.0, False)],\n",
       "  3: [(0.3333333333333333, 27, 0.0, False),\n",
       "   (0.3333333333333333, 18, 0.0, False),\n",
       "   (0.3333333333333333, 25, 0.0, False)]},\n",
       " 27: {0: [(0.3333333333333333, 19, 0.0, True),\n",
       "   (0.3333333333333333, 26, 0.0, False),\n",
       "   (0.3333333333333333, 35, 0.0, True)],\n",
       "  1: [(0.3333333333333333, 26, 0.0, False),\n",
       "   (0.3333333333333333, 35, 0.0, True),\n",
       "   (0.3333333333333333, 28, 0.0, False)],\n",
       "  2: [(0.3333333333333333, 35, 0.0, True),\n",
       "   (0.3333333333333333, 28, 0.0, False),\n",
       "   (0.3333333333333333, 19, 0.0, True)],\n",
       "  3: [(0.3333333333333333, 28, 0.0, False),\n",
       "   (0.3333333333333333, 19, 0.0, True),\n",
       "   (0.3333333333333333, 26, 0.0, False)]},\n",
       " 28: {0: [(0.3333333333333333, 20, 0.0, False),\n",
       "   (0.3333333333333333, 27, 0.0, False),\n",
       "   (0.3333333333333333, 36, 0.0, False)],\n",
       "  1: [(0.3333333333333333, 27, 0.0, False),\n",
       "   (0.3333333333333333, 36, 0.0, False),\n",
       "   (0.3333333333333333, 29, 0.0, True)],\n",
       "  2: [(0.3333333333333333, 36, 0.0, False),\n",
       "   (0.3333333333333333, 29, 0.0, True),\n",
       "   (0.3333333333333333, 20, 0.0, False)],\n",
       "  3: [(0.3333333333333333, 29, 0.0, True),\n",
       "   (0.3333333333333333, 20, 0.0, False),\n",
       "   (0.3333333333333333, 27, 0.0, False)]},\n",
       " 29: {0: [(1.0, 29, 0, True)],\n",
       "  1: [(1.0, 29, 0, True)],\n",
       "  2: [(1.0, 29, 0, True)],\n",
       "  3: [(1.0, 29, 0, True)]},\n",
       " 30: {0: [(0.3333333333333333, 22, 0.0, False),\n",
       "   (0.3333333333333333, 29, 0.0, True),\n",
       "   (0.3333333333333333, 38, 0.0, False)],\n",
       "  1: [(0.3333333333333333, 29, 0.0, True),\n",
       "   (0.3333333333333333, 38, 0.0, False),\n",
       "   (0.3333333333333333, 31, 0.0, False)],\n",
       "  2: [(0.3333333333333333, 38, 0.0, False),\n",
       "   (0.3333333333333333, 31, 0.0, False),\n",
       "   (0.3333333333333333, 22, 0.0, False)],\n",
       "  3: [(0.3333333333333333, 31, 0.0, False),\n",
       "   (0.3333333333333333, 22, 0.0, False),\n",
       "   (0.3333333333333333, 29, 0.0, True)]},\n",
       " 31: {0: [(0.3333333333333333, 23, 0.0, False),\n",
       "   (0.3333333333333333, 30, 0.0, False),\n",
       "   (0.3333333333333333, 39, 0.0, False)],\n",
       "  1: [(0.3333333333333333, 30, 0.0, False),\n",
       "   (0.3333333333333333, 39, 0.0, False),\n",
       "   (0.3333333333333333, 31, 0.0, False)],\n",
       "  2: [(0.3333333333333333, 39, 0.0, False),\n",
       "   (0.3333333333333333, 31, 0.0, False),\n",
       "   (0.3333333333333333, 23, 0.0, False)],\n",
       "  3: [(0.3333333333333333, 31, 0.0, False),\n",
       "   (0.3333333333333333, 23, 0.0, False),\n",
       "   (0.3333333333333333, 30, 0.0, False)]},\n",
       " 32: {0: [(0.3333333333333333, 24, 0.0, False),\n",
       "   (0.3333333333333333, 32, 0.0, False),\n",
       "   (0.3333333333333333, 40, 0.0, False)],\n",
       "  1: [(0.3333333333333333, 32, 0.0, False),\n",
       "   (0.3333333333333333, 40, 0.0, False),\n",
       "   (0.3333333333333333, 33, 0.0, False)],\n",
       "  2: [(0.3333333333333333, 40, 0.0, False),\n",
       "   (0.3333333333333333, 33, 0.0, False),\n",
       "   (0.3333333333333333, 24, 0.0, False)],\n",
       "  3: [(0.3333333333333333, 33, 0.0, False),\n",
       "   (0.3333333333333333, 24, 0.0, False),\n",
       "   (0.3333333333333333, 32, 0.0, False)]},\n",
       " 33: {0: [(0.3333333333333333, 25, 0.0, False),\n",
       "   (0.3333333333333333, 32, 0.0, False),\n",
       "   (0.3333333333333333, 41, 0.0, True)],\n",
       "  1: [(0.3333333333333333, 32, 0.0, False),\n",
       "   (0.3333333333333333, 41, 0.0, True),\n",
       "   (0.3333333333333333, 34, 0.0, False)],\n",
       "  2: [(0.3333333333333333, 41, 0.0, True),\n",
       "   (0.3333333333333333, 34, 0.0, False),\n",
       "   (0.3333333333333333, 25, 0.0, False)],\n",
       "  3: [(0.3333333333333333, 34, 0.0, False),\n",
       "   (0.3333333333333333, 25, 0.0, False),\n",
       "   (0.3333333333333333, 32, 0.0, False)]},\n",
       " 34: {0: [(0.3333333333333333, 26, 0.0, False),\n",
       "   (0.3333333333333333, 33, 0.0, False),\n",
       "   (0.3333333333333333, 42, 0.0, True)],\n",
       "  1: [(0.3333333333333333, 33, 0.0, False),\n",
       "   (0.3333333333333333, 42, 0.0, True),\n",
       "   (0.3333333333333333, 35, 0.0, True)],\n",
       "  2: [(0.3333333333333333, 42, 0.0, True),\n",
       "   (0.3333333333333333, 35, 0.0, True),\n",
       "   (0.3333333333333333, 26, 0.0, False)],\n",
       "  3: [(0.3333333333333333, 35, 0.0, True),\n",
       "   (0.3333333333333333, 26, 0.0, False),\n",
       "   (0.3333333333333333, 33, 0.0, False)]},\n",
       " 35: {0: [(1.0, 35, 0, True)],\n",
       "  1: [(1.0, 35, 0, True)],\n",
       "  2: [(1.0, 35, 0, True)],\n",
       "  3: [(1.0, 35, 0, True)]},\n",
       " 36: {0: [(0.3333333333333333, 28, 0.0, False),\n",
       "   (0.3333333333333333, 35, 0.0, True),\n",
       "   (0.3333333333333333, 44, 0.0, False)],\n",
       "  1: [(0.3333333333333333, 35, 0.0, True),\n",
       "   (0.3333333333333333, 44, 0.0, False),\n",
       "   (0.3333333333333333, 37, 0.0, False)],\n",
       "  2: [(0.3333333333333333, 44, 0.0, False),\n",
       "   (0.3333333333333333, 37, 0.0, False),\n",
       "   (0.3333333333333333, 28, 0.0, False)],\n",
       "  3: [(0.3333333333333333, 37, 0.0, False),\n",
       "   (0.3333333333333333, 28, 0.0, False),\n",
       "   (0.3333333333333333, 35, 0.0, True)]},\n",
       " 37: {0: [(0.3333333333333333, 29, 0.0, True),\n",
       "   (0.3333333333333333, 36, 0.0, False),\n",
       "   (0.3333333333333333, 45, 0.0, False)],\n",
       "  1: [(0.3333333333333333, 36, 0.0, False),\n",
       "   (0.3333333333333333, 45, 0.0, False),\n",
       "   (0.3333333333333333, 38, 0.0, False)],\n",
       "  2: [(0.3333333333333333, 45, 0.0, False),\n",
       "   (0.3333333333333333, 38, 0.0, False),\n",
       "   (0.3333333333333333, 29, 0.0, True)],\n",
       "  3: [(0.3333333333333333, 38, 0.0, False),\n",
       "   (0.3333333333333333, 29, 0.0, True),\n",
       "   (0.3333333333333333, 36, 0.0, False)]},\n",
       " 38: {0: [(0.3333333333333333, 30, 0.0, False),\n",
       "   (0.3333333333333333, 37, 0.0, False),\n",
       "   (0.3333333333333333, 46, 0.0, True)],\n",
       "  1: [(0.3333333333333333, 37, 0.0, False),\n",
       "   (0.3333333333333333, 46, 0.0, True),\n",
       "   (0.3333333333333333, 39, 0.0, False)],\n",
       "  2: [(0.3333333333333333, 46, 0.0, True),\n",
       "   (0.3333333333333333, 39, 0.0, False),\n",
       "   (0.3333333333333333, 30, 0.0, False)],\n",
       "  3: [(0.3333333333333333, 39, 0.0, False),\n",
       "   (0.3333333333333333, 30, 0.0, False),\n",
       "   (0.3333333333333333, 37, 0.0, False)]},\n",
       " 39: {0: [(0.3333333333333333, 31, 0.0, False),\n",
       "   (0.3333333333333333, 38, 0.0, False),\n",
       "   (0.3333333333333333, 47, 0.0, False)],\n",
       "  1: [(0.3333333333333333, 38, 0.0, False),\n",
       "   (0.3333333333333333, 47, 0.0, False),\n",
       "   (0.3333333333333333, 39, 0.0, False)],\n",
       "  2: [(0.3333333333333333, 47, 0.0, False),\n",
       "   (0.3333333333333333, 39, 0.0, False),\n",
       "   (0.3333333333333333, 31, 0.0, False)],\n",
       "  3: [(0.3333333333333333, 39, 0.0, False),\n",
       "   (0.3333333333333333, 31, 0.0, False),\n",
       "   (0.3333333333333333, 38, 0.0, False)]},\n",
       " 40: {0: [(0.3333333333333333, 32, 0.0, False),\n",
       "   (0.3333333333333333, 40, 0.0, False),\n",
       "   (0.3333333333333333, 48, 0.0, False)],\n",
       "  1: [(0.3333333333333333, 40, 0.0, False),\n",
       "   (0.3333333333333333, 48, 0.0, False),\n",
       "   (0.3333333333333333, 41, 0.0, True)],\n",
       "  2: [(0.3333333333333333, 48, 0.0, False),\n",
       "   (0.3333333333333333, 41, 0.0, True),\n",
       "   (0.3333333333333333, 32, 0.0, False)],\n",
       "  3: [(0.3333333333333333, 41, 0.0, True),\n",
       "   (0.3333333333333333, 32, 0.0, False),\n",
       "   (0.3333333333333333, 40, 0.0, False)]},\n",
       " 41: {0: [(1.0, 41, 0, True)],\n",
       "  1: [(1.0, 41, 0, True)],\n",
       "  2: [(1.0, 41, 0, True)],\n",
       "  3: [(1.0, 41, 0, True)]},\n",
       " 42: {0: [(1.0, 42, 0, True)],\n",
       "  1: [(1.0, 42, 0, True)],\n",
       "  2: [(1.0, 42, 0, True)],\n",
       "  3: [(1.0, 42, 0, True)]},\n",
       " 43: {0: [(0.3333333333333333, 35, 0.0, True),\n",
       "   (0.3333333333333333, 42, 0.0, True),\n",
       "   (0.3333333333333333, 51, 0.0, False)],\n",
       "  1: [(0.3333333333333333, 42, 0.0, True),\n",
       "   (0.3333333333333333, 51, 0.0, False),\n",
       "   (0.3333333333333333, 44, 0.0, False)],\n",
       "  2: [(0.3333333333333333, 51, 0.0, False),\n",
       "   (0.3333333333333333, 44, 0.0, False),\n",
       "   (0.3333333333333333, 35, 0.0, True)],\n",
       "  3: [(0.3333333333333333, 44, 0.0, False),\n",
       "   (0.3333333333333333, 35, 0.0, True),\n",
       "   (0.3333333333333333, 42, 0.0, True)]},\n",
       " 44: {0: [(0.3333333333333333, 36, 0.0, False),\n",
       "   (0.3333333333333333, 43, 0.0, False),\n",
       "   (0.3333333333333333, 52, 0.0, True)],\n",
       "  1: [(0.3333333333333333, 43, 0.0, False),\n",
       "   (0.3333333333333333, 52, 0.0, True),\n",
       "   (0.3333333333333333, 45, 0.0, False)],\n",
       "  2: [(0.3333333333333333, 52, 0.0, True),\n",
       "   (0.3333333333333333, 45, 0.0, False),\n",
       "   (0.3333333333333333, 36, 0.0, False)],\n",
       "  3: [(0.3333333333333333, 45, 0.0, False),\n",
       "   (0.3333333333333333, 36, 0.0, False),\n",
       "   (0.3333333333333333, 43, 0.0, False)]},\n",
       " 45: {0: [(0.3333333333333333, 37, 0.0, False),\n",
       "   (0.3333333333333333, 44, 0.0, False),\n",
       "   (0.3333333333333333, 53, 0.0, False)],\n",
       "  1: [(0.3333333333333333, 44, 0.0, False),\n",
       "   (0.3333333333333333, 53, 0.0, False),\n",
       "   (0.3333333333333333, 46, 0.0, True)],\n",
       "  2: [(0.3333333333333333, 53, 0.0, False),\n",
       "   (0.3333333333333333, 46, 0.0, True),\n",
       "   (0.3333333333333333, 37, 0.0, False)],\n",
       "  3: [(0.3333333333333333, 46, 0.0, True),\n",
       "   (0.3333333333333333, 37, 0.0, False),\n",
       "   (0.3333333333333333, 44, 0.0, False)]},\n",
       " 46: {0: [(1.0, 46, 0, True)],\n",
       "  1: [(1.0, 46, 0, True)],\n",
       "  2: [(1.0, 46, 0, True)],\n",
       "  3: [(1.0, 46, 0, True)]},\n",
       " 47: {0: [(0.3333333333333333, 39, 0.0, False),\n",
       "   (0.3333333333333333, 46, 0.0, True),\n",
       "   (0.3333333333333333, 55, 0.0, False)],\n",
       "  1: [(0.3333333333333333, 46, 0.0, True),\n",
       "   (0.3333333333333333, 55, 0.0, False),\n",
       "   (0.3333333333333333, 47, 0.0, False)],\n",
       "  2: [(0.3333333333333333, 55, 0.0, False),\n",
       "   (0.3333333333333333, 47, 0.0, False),\n",
       "   (0.3333333333333333, 39, 0.0, False)],\n",
       "  3: [(0.3333333333333333, 47, 0.0, False),\n",
       "   (0.3333333333333333, 39, 0.0, False),\n",
       "   (0.3333333333333333, 46, 0.0, True)]},\n",
       " 48: {0: [(0.3333333333333333, 40, 0.0, False),\n",
       "   (0.3333333333333333, 48, 0.0, False),\n",
       "   (0.3333333333333333, 56, 0.0, False)],\n",
       "  1: [(0.3333333333333333, 48, 0.0, False),\n",
       "   (0.3333333333333333, 56, 0.0, False),\n",
       "   (0.3333333333333333, 49, 0.0, True)],\n",
       "  2: [(0.3333333333333333, 56, 0.0, False),\n",
       "   (0.3333333333333333, 49, 0.0, True),\n",
       "   (0.3333333333333333, 40, 0.0, False)],\n",
       "  3: [(0.3333333333333333, 49, 0.0, True),\n",
       "   (0.3333333333333333, 40, 0.0, False),\n",
       "   (0.3333333333333333, 48, 0.0, False)]},\n",
       " 49: {0: [(1.0, 49, 0, True)],\n",
       "  1: [(1.0, 49, 0, True)],\n",
       "  2: [(1.0, 49, 0, True)],\n",
       "  3: [(1.0, 49, 0, True)]},\n",
       " 50: {0: [(0.3333333333333333, 42, 0.0, True),\n",
       "   (0.3333333333333333, 49, 0.0, True),\n",
       "   (0.3333333333333333, 58, 0.0, False)],\n",
       "  1: [(0.3333333333333333, 49, 0.0, True),\n",
       "   (0.3333333333333333, 58, 0.0, False),\n",
       "   (0.3333333333333333, 51, 0.0, False)],\n",
       "  2: [(0.3333333333333333, 58, 0.0, False),\n",
       "   (0.3333333333333333, 51, 0.0, False),\n",
       "   (0.3333333333333333, 42, 0.0, True)],\n",
       "  3: [(0.3333333333333333, 51, 0.0, False),\n",
       "   (0.3333333333333333, 42, 0.0, True),\n",
       "   (0.3333333333333333, 49, 0.0, True)]},\n",
       " 51: {0: [(0.3333333333333333, 43, 0.0, False),\n",
       "   (0.3333333333333333, 50, 0.0, False),\n",
       "   (0.3333333333333333, 59, 0.0, True)],\n",
       "  1: [(0.3333333333333333, 50, 0.0, False),\n",
       "   (0.3333333333333333, 59, 0.0, True),\n",
       "   (0.3333333333333333, 52, 0.0, True)],\n",
       "  2: [(0.3333333333333333, 59, 0.0, True),\n",
       "   (0.3333333333333333, 52, 0.0, True),\n",
       "   (0.3333333333333333, 43, 0.0, False)],\n",
       "  3: [(0.3333333333333333, 52, 0.0, True),\n",
       "   (0.3333333333333333, 43, 0.0, False),\n",
       "   (0.3333333333333333, 50, 0.0, False)]},\n",
       " 52: {0: [(1.0, 52, 0, True)],\n",
       "  1: [(1.0, 52, 0, True)],\n",
       "  2: [(1.0, 52, 0, True)],\n",
       "  3: [(1.0, 52, 0, True)]},\n",
       " 53: {0: [(0.3333333333333333, 45, 0.0, False),\n",
       "   (0.3333333333333333, 52, 0.0, True),\n",
       "   (0.3333333333333333, 61, 0.0, False)],\n",
       "  1: [(0.3333333333333333, 52, 0.0, True),\n",
       "   (0.3333333333333333, 61, 0.0, False),\n",
       "   (0.3333333333333333, 54, 0.0, True)],\n",
       "  2: [(0.3333333333333333, 61, 0.0, False),\n",
       "   (0.3333333333333333, 54, 0.0, True),\n",
       "   (0.3333333333333333, 45, 0.0, False)],\n",
       "  3: [(0.3333333333333333, 54, 0.0, True),\n",
       "   (0.3333333333333333, 45, 0.0, False),\n",
       "   (0.3333333333333333, 52, 0.0, True)]},\n",
       " 54: {0: [(1.0, 54, 0, True)],\n",
       "  1: [(1.0, 54, 0, True)],\n",
       "  2: [(1.0, 54, 0, True)],\n",
       "  3: [(1.0, 54, 0, True)]},\n",
       " 55: {0: [(0.3333333333333333, 47, 0.0, False),\n",
       "   (0.3333333333333333, 54, 0.0, True),\n",
       "   (0.3333333333333333, 63, 1.0, True)],\n",
       "  1: [(0.3333333333333333, 54, 0.0, True),\n",
       "   (0.3333333333333333, 63, 1.0, True),\n",
       "   (0.3333333333333333, 55, 0.0, False)],\n",
       "  2: [(0.3333333333333333, 63, 1.0, True),\n",
       "   (0.3333333333333333, 55, 0.0, False),\n",
       "   (0.3333333333333333, 47, 0.0, False)],\n",
       "  3: [(0.3333333333333333, 55, 0.0, False),\n",
       "   (0.3333333333333333, 47, 0.0, False),\n",
       "   (0.3333333333333333, 54, 0.0, True)]},\n",
       " 56: {0: [(0.3333333333333333, 48, 0.0, False),\n",
       "   (0.3333333333333333, 56, 0.0, False),\n",
       "   (0.3333333333333333, 56, 0.0, False)],\n",
       "  1: [(0.3333333333333333, 56, 0.0, False),\n",
       "   (0.3333333333333333, 56, 0.0, False),\n",
       "   (0.3333333333333333, 57, 0.0, False)],\n",
       "  2: [(0.3333333333333333, 56, 0.0, False),\n",
       "   (0.3333333333333333, 57, 0.0, False),\n",
       "   (0.3333333333333333, 48, 0.0, False)],\n",
       "  3: [(0.3333333333333333, 57, 0.0, False),\n",
       "   (0.3333333333333333, 48, 0.0, False),\n",
       "   (0.3333333333333333, 56, 0.0, False)]},\n",
       " 57: {0: [(0.3333333333333333, 49, 0.0, True),\n",
       "   (0.3333333333333333, 56, 0.0, False),\n",
       "   (0.3333333333333333, 57, 0.0, False)],\n",
       "  1: [(0.3333333333333333, 56, 0.0, False),\n",
       "   (0.3333333333333333, 57, 0.0, False),\n",
       "   (0.3333333333333333, 58, 0.0, False)],\n",
       "  2: [(0.3333333333333333, 57, 0.0, False),\n",
       "   (0.3333333333333333, 58, 0.0, False),\n",
       "   (0.3333333333333333, 49, 0.0, True)],\n",
       "  3: [(0.3333333333333333, 58, 0.0, False),\n",
       "   (0.3333333333333333, 49, 0.0, True),\n",
       "   (0.3333333333333333, 56, 0.0, False)]},\n",
       " 58: {0: [(0.3333333333333333, 50, 0.0, False),\n",
       "   (0.3333333333333333, 57, 0.0, False),\n",
       "   (0.3333333333333333, 58, 0.0, False)],\n",
       "  1: [(0.3333333333333333, 57, 0.0, False),\n",
       "   (0.3333333333333333, 58, 0.0, False),\n",
       "   (0.3333333333333333, 59, 0.0, True)],\n",
       "  2: [(0.3333333333333333, 58, 0.0, False),\n",
       "   (0.3333333333333333, 59, 0.0, True),\n",
       "   (0.3333333333333333, 50, 0.0, False)],\n",
       "  3: [(0.3333333333333333, 59, 0.0, True),\n",
       "   (0.3333333333333333, 50, 0.0, False),\n",
       "   (0.3333333333333333, 57, 0.0, False)]},\n",
       " 59: {0: [(1.0, 59, 0, True)],\n",
       "  1: [(1.0, 59, 0, True)],\n",
       "  2: [(1.0, 59, 0, True)],\n",
       "  3: [(1.0, 59, 0, True)]},\n",
       " 60: {0: [(0.3333333333333333, 52, 0.0, True),\n",
       "   (0.3333333333333333, 59, 0.0, True),\n",
       "   (0.3333333333333333, 60, 0.0, False)],\n",
       "  1: [(0.3333333333333333, 59, 0.0, True),\n",
       "   (0.3333333333333333, 60, 0.0, False),\n",
       "   (0.3333333333333333, 61, 0.0, False)],\n",
       "  2: [(0.3333333333333333, 60, 0.0, False),\n",
       "   (0.3333333333333333, 61, 0.0, False),\n",
       "   (0.3333333333333333, 52, 0.0, True)],\n",
       "  3: [(0.3333333333333333, 61, 0.0, False),\n",
       "   (0.3333333333333333, 52, 0.0, True),\n",
       "   (0.3333333333333333, 59, 0.0, True)]},\n",
       " 61: {0: [(0.3333333333333333, 53, 0.0, False),\n",
       "   (0.3333333333333333, 60, 0.0, False),\n",
       "   (0.3333333333333333, 61, 0.0, False)],\n",
       "  1: [(0.3333333333333333, 60, 0.0, False),\n",
       "   (0.3333333333333333, 61, 0.0, False),\n",
       "   (0.3333333333333333, 62, 0.0, False)],\n",
       "  2: [(0.3333333333333333, 61, 0.0, False),\n",
       "   (0.3333333333333333, 62, 0.0, False),\n",
       "   (0.3333333333333333, 53, 0.0, False)],\n",
       "  3: [(0.3333333333333333, 62, 0.0, False),\n",
       "   (0.3333333333333333, 53, 0.0, False),\n",
       "   (0.3333333333333333, 60, 0.0, False)]},\n",
       " 62: {0: [(0.3333333333333333, 54, 0.0, True),\n",
       "   (0.3333333333333333, 61, 0.0, False),\n",
       "   (0.3333333333333333, 62, 0.0, False)],\n",
       "  1: [(0.3333333333333333, 61, 0.0, False),\n",
       "   (0.3333333333333333, 62, 0.0, False),\n",
       "   (0.3333333333333333, 63, 1.0, True)],\n",
       "  2: [(0.3333333333333333, 62, 0.0, False),\n",
       "   (0.3333333333333333, 63, 1.0, True),\n",
       "   (0.3333333333333333, 54, 0.0, True)],\n",
       "  3: [(0.3333333333333333, 63, 1.0, True),\n",
       "   (0.3333333333333333, 54, 0.0, True),\n",
       "   (0.3333333333333333, 61, 0.0, False)]},\n",
       " 63: {0: [(1.0, 63, 0, True)],\n",
       "  1: [(1.0, 63, 0, True)],\n",
       "  2: [(1.0, 63, 0, True)],\n",
       "  3: [(1.0, 63, 0, True)]}}"
      ]
     },
     "execution_count": 66,
     "metadata": {},
     "output_type": "execute_result"
    }
   ],
   "source": [
    "env.P"
   ]
  }
 ],
 "metadata": {
  "kernelspec": {
   "display_name": "Python 3",
   "language": "python",
   "name": "python3"
  },
  "language_info": {
   "codemirror_mode": {
    "name": "ipython",
    "version": 3
   },
   "file_extension": ".py",
   "mimetype": "text/x-python",
   "name": "python",
   "nbconvert_exporter": "python",
   "pygments_lexer": "ipython3",
   "version": "3.7.2"
  }
 },
 "nbformat": 4,
 "nbformat_minor": 2
}
